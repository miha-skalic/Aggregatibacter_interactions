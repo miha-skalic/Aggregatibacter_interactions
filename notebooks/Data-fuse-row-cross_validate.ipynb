{
 "cells": [
  {
   "cell_type": "markdown",
   "metadata": {},
   "source": [
    "<br>\n",
    "<font color=\"#500000\" size=15 style=\"margin:2cm\"> AGGREGATIBACTER FUSE</font>\n",
    "\n"
   ]
  },
  {
   "cell_type": "code",
   "execution_count": 1,
   "metadata": {
    "collapsed": false
   },
   "outputs": [],
   "source": [
    "# importing modules\n",
    "import matplotlib.pyplot as plt\n",
    "import numpy as np\n",
    "from skfusion import fusion\n",
    "from cross_validation import *\n",
    "import pickle\n",
    "%matplotlib inline\n",
    "plt.rcParams['figure.figsize'] = (15.0, 8.0)"
   ]
  },
  {
   "cell_type": "markdown",
   "metadata": {},
   "source": [
    "#Matrices import"
   ]
  },
  {
   "cell_type": "markdown",
   "metadata": {},
   "source": [
    "Load in all the matrices!"
   ]
  },
  {
   "cell_type": "code",
   "execution_count": 2,
   "metadata": {
    "collapsed": false
   },
   "outputs": [],
   "source": [
    "prot_rna = pickle.load(open('../matrices/pickles/cr_z-score_raw.pkl', 'rb'))\n",
    "secretion_prot = pickle.load(open('../matrices/pickles/signalP.pkl', 'rb'))\n",
    "rna_expression = pickle.load(open('../matrices/pickles/MA_exp.pkl', 'rb'))\n",
    "s4te_prot = np.load(open('../matrices/pickles/S4TE.npy', 'rb'))\n",
    "OG_prot = np.load(open('../matrices/pickles/OG_prot.npy', 'rb'))"
   ]
  },
  {
   "cell_type": "markdown",
   "metadata": {},
   "source": [
    "# Data transformation"
   ]
  },
  {
   "cell_type": "code",
   "execution_count": 3,
   "metadata": {
    "collapsed": false
   },
   "outputs": [
    {
     "name": "stdout",
     "output_type": "stream",
     "text": [
      "secretion_prot: (5, 2001)\n",
      "rna_expression: (7097, 5)\n",
      "prot_rna: (2001, 7097)\n",
      "s4te_prot: (12, 2001)\n",
      "OG_prot: (22, 2001)\n"
     ]
    }
   ],
   "source": [
    "# remove data for genes with no catrapid prediction\n",
    "selection = prot_rna.any(axis=1)\n",
    "prot_rna = prot_rna[selection,:]\n",
    "secretion_prot = secretion_prot[:, selection]\n",
    "s4te_prot = s4te_prot[:, selection]\n",
    "OG_prot = OG_prot[:, selection]\n",
    "# Addd pseudo rows \n",
    "# TODO: remove when fixed!\n",
    "secretion_prot = np.vstack((secretion_prot, secretion_prot, secretion_prot, secretion_prot, secretion_prot))\n",
    "\n",
    "rna_expression = rna_expression.reshape(rna_expression.shape[0],1)\n",
    "rna_expression = np.hstack((rna_expression, rna_expression, rna_expression, rna_expression, rna_expression))\n",
    "\n",
    "\n",
    "# Display shapes\n",
    "print('secretion_prot:', secretion_prot.shape)\n",
    "print('rna_expression:', rna_expression.shape)\n",
    "print('prot_rna:', prot_rna.shape)\n",
    "print('s4te_prot:', s4te_prot.shape)\n",
    "print('OG_prot:', OG_prot.shape)"
   ]
  },
  {
   "cell_type": "markdown",
   "metadata": {},
   "source": [
    "# Data fusion setup"
   ]
  },
  {
   "cell_type": "code",
   "execution_count": 13,
   "metadata": {
    "collapsed": false
   },
   "outputs": [],
   "source": [
    "# Define names\n",
    "secretion = fusion.ObjectType('SignalP', 1)\n",
    "prot = fusion.ObjectType('AAprot', 100)\n",
    "genes = fusion.ObjectType('HSgenes', 200)\n",
    "# TODO: lower when possible\n",
    "expr = fusion.ObjectType('HSexpression', 2)\n",
    "t4e = fusion.ObjectType('Type4eff', 3)\n",
    "OG = fusion.ObjectType('ontology_groups', 3)\n",
    "# Define relations\n",
    "relations = [fusion.Relation(secretion_prot, secretion, prot),\n",
    "             fusion.Relation(prot_rna, prot, genes, name='catrapid'),\n",
    "             fusion.Relation(rna_expression, genes, expr),\n",
    "             fusion.Relation(OG_prot, OG, prot)]\n",
    "\n"
   ]
  },
  {
   "cell_type": "markdown",
   "metadata": {},
   "source": [
    "# Validation Functions"
   ]
  },
  {
   "cell_type": "code",
   "execution_count": 7,
   "metadata": {
    "collapsed": false
   },
   "outputs": [],
   "source": [
    "# Full build\n",
    "def row_cross_validate(relations, cv_fold=10, th=2.5, random_state=1):\n",
    "    \"\"\"\n",
    "    Performs cross valiation on give first matrix of relation and returns\n",
    "    lists ouf AUC score and average deviation.\n",
    "    \"\"\"\n",
    "    auc_vals = []\n",
    "    avr_dev = []\n",
    "    orig_matrix = relations[0].data\n",
    "    for cv_matrix, elements in matrix_cv_setup(orig_matrix, n_fold=cv_fold, alternative=0, by_row=True):\n",
    "        relations[0].data = cv_matrix\n",
    "        reconst_mat = dfmf_n_reconstruct(relations, random_state=random_state)\n",
    "\n",
    "        auc_vals.append(auc_value(orig_matrix, reconst_mat, elements, treshold=th, by_row=True))\n",
    "        avr_dev.append(avr_res(orig_matrix, reconst_mat, elements, by_row=True))\n",
    "        # print(auc_vals[-1],\"auc\")\n",
    "        # print(avr_dev[-1], \"dev\")\n",
    "    print('\\tAUC value is:', np.mean(auc_vals))\n",
    "    print('\\t\\tall values:', auc_vals)\n",
    "    print()\n",
    "    print('\\tAverage deviation is:', np.mean(avr_dev))\n",
    "    print('\\t\\tall values:', avr_dev)\n",
    "    relations[0].data = orig_matrix\n",
    "\n",
    "def dfmf_n_reconstruct(relationships, random_state=1):\n",
    "    \"\"\"\n",
    "    Given relationships, reconstructs the matrix\n",
    "    \"\"\"\n",
    "    fusion_graph = fusion.FusionGraph(relations)\n",
    "\n",
    "    fuser = fusion.Dfmf(random_state=random_state)\n",
    "    fuser.fuse(fusion_graph)\n",
    "    return fuser.complete(fusion_graph['catrapid'])\n"
   ]
  },
  {
   "cell_type": "markdown",
   "metadata": {},
   "source": [
    "# Predictions"
   ]
  },
  {
   "cell_type": "code",
   "execution_count": 6,
   "metadata": {
    "collapsed": false
   },
   "outputs": [
    {
     "name": "stdout",
     "output_type": "stream",
     "text": [
      "Interactions, Secretion and Expression:\n",
      "\tAUC value is: 0.499202459158\n",
      "\t\tall values: [0.49299728051102504, 0.48189394219957837, 0.5026528653429615, 0.48331549128340939, 0.51765856429126589, 0.52067484938108388, 0.48410225294666215, 0.48344028974129322, 0.5081775488679704, 0.51711150701366948]\n",
      "\n",
      "\tAverage deviation is: 0.599164929645\n",
      "\t\tall values: [0.61175414906712233, 0.60344401015861981, 0.57859295774004771, 0.58926221731213235, 0.58969118040220403, 0.59938168951850657, 0.61833393220343502, 0.59908768864879414, 0.61050125802545729, 0.59160021337290636]\n",
      "\n"
     ]
    }
   ],
   "source": [
    "auc_th = 2.5\n",
    "\n",
    "relations = [fusion.Relation(prot_rna, prot, genes, name='catrapid'),\n",
    "             fusion.Relation(secretion_prot, secretion, prot),\n",
    "             fusion.Relation(rna_expression, genes, expr)]\n",
    "\n",
    "print('Interactions, Secretion and Expression:')\n",
    "row_cross_validate(relations, cv_fold=10, th=auc_th)\n",
    "print()"
   ]
  },
  {
   "cell_type": "code",
   "execution_count": 7,
   "metadata": {
    "collapsed": false
   },
   "outputs": [
    {
     "name": "stdout",
     "output_type": "stream",
     "text": [
      "with Secretion:\n",
      "\tAUC value is: 0.500626621621\n",
      "\t\tall values: [0.48711068702215249, 0.48451894735789197, 0.49917505247709332, 0.48892691752571182, 0.52272869378796116, 0.52512780986236152, 0.48545454314240361, 0.48644859297172055, 0.51286883757190893, 0.51390613448646161]\n",
      "\n",
      "\tAverage deviation is: 0.599165792024\n",
      "\t\tall values: [0.61175269202802163, 0.60344542403846146, 0.57859235028266454, 0.58926546202081931, 0.58969483536709166, 0.59938113956485661, 0.61833442817948447, 0.59909100640246504, 0.61050121919302514, 0.59159936316451489]\n",
      "\n"
     ]
    }
   ],
   "source": [
    "print('with Secretion:')\n",
    "relations = [fusion.Relation(prot_rna, prot, genes, name='catrapid'),\n",
    "             fusion.Relation(secretion_prot, secretion, prot)]\n",
    "\n",
    "row_cross_validate(relations, cv_fold=10, th=auc_th)\n",
    "print()"
   ]
  },
  {
   "cell_type": "code",
   "execution_count": 8,
   "metadata": {
    "collapsed": false
   },
   "outputs": [
    {
     "name": "stdout",
     "output_type": "stream",
     "text": [
      "with Expression:\n",
      "\tAUC value is: 0.525844271524\n",
      "\t\tall values: [0.52149715177646871, 0.50916373235237822, 0.52181368673301121, 0.52247399887591428, 0.52438579002896157, 0.54427607952656676, 0.52957767782128218, 0.52325020876245476, 0.5281254309888167, 0.53387895837034682]\n",
      "\n",
      "\tAverage deviation is: 0.599167114218\n",
      "\t\tall values: [0.61176825420324255, 0.60343899639349763, 0.57859316322305987, 0.5892660378440967, 0.5896979748248411, 0.59938773418479019, 0.61833117830429241, 0.59908505160784975, 0.61050607465055118, 0.59159667694109153]\n",
      "\n"
     ]
    }
   ],
   "source": [
    "print('with Expression:')\n",
    "\n",
    "relations = [fusion.Relation(prot_rna, prot, genes, name='catrapid'),\n",
    "             fusion.Relation(rna_expression, genes, expr)]\n",
    "\n",
    "relations.append(fusion.Relation(rna_expression, genes, expr))\n",
    "row_cross_validate(relations, cv_fold=10, th=auc_th)\n",
    "print()"
   ]
  },
  {
   "cell_type": "code",
   "execution_count": 7,
   "metadata": {
    "collapsed": false
   },
   "outputs": [
    {
     "name": "stdout",
     "output_type": "stream",
     "text": [
      "with S4TE\n",
      "\tAUC value is: 0.535251919434\n",
      "\t\tall values: [0.52521001615268126, 0.53567004747480185, 0.51932074359016978, 0.57826230855480576, 0.53032217791752889, 0.52902394644580419, 0.52641208035742681, 0.54068651577883464, 0.52898786597733682, 0.53862349208757432]\n",
      "\n",
      "\tAverage deviation is: 0.599152135999\n",
      "\t\tall values: [0.6117648209996418, 0.60343193959188468, 0.57858487706978989, 0.5892508607028305, 0.58968414162571503, 0.59936265271459577, 0.61830042076984282, 0.59910535336405812, 0.61047528047506605, 0.59156101267451167]\n",
      "\n"
     ]
    }
   ],
   "source": [
    "auc_th = 2.5\n",
    "\n",
    "print('with S4TE')\n",
    "relations = [fusion.Relation(prot_rna, prot, genes, name='catrapid'),\n",
    "             fusion.Relation(s4te_prot, t4e, prot)]\n",
    "row_cross_validate(relations, cv_fold=10, th=auc_th)\n",
    "print()"
   ]
  },
  {
   "cell_type": "code",
   "execution_count": 9,
   "metadata": {
    "collapsed": false
   },
   "outputs": [
    {
     "name": "stdout",
     "output_type": "stream",
     "text": [
      "with S4TE and expressions\n",
      "\tAUC value is: 0.526913351387\n",
      "\t\tall values: [0.53983184210681012, 0.53490826811148828, 0.52828917697867617, 0.51416062952159514, 0.53610546875080423, 0.5268052449026901, 0.52301827805042411, 0.51173416399450322, 0.53438091366675067, 0.51989952778441462]\n",
      "\n",
      "\tAverage deviation is: 0.599163336699\n",
      "\t\tall values: [0.61177485806271359, 0.60343029002359216, 0.57859200959483659, 0.58924647195672575, 0.58966730562656045, 0.59939520614635022, 0.61828795756501509, 0.59913908876272937, 0.61049782180189927, 0.59160235744917533]\n",
      "\n"
     ]
    }
   ],
   "source": [
    "auc_th = 2.5\n",
    "\n",
    "print('with S4TE and expressions')\n",
    "relations = [fusion.Relation(prot_rna, prot, genes, name='catrapid'),\n",
    "             fusion.Relation(s4te_prot, t4e, prot),\n",
    "             fusion.Relation(rna_expression, genes, expr)]\n",
    "row_cross_validate(relations, cv_fold=10, th=auc_th)\n",
    "print()\n"
   ]
  },
  {
   "cell_type": "code",
   "execution_count": 15,
   "metadata": {
    "collapsed": false
   },
   "outputs": [
    {
     "name": "stdout",
     "output_type": "stream",
     "text": [
      "with Orthology\n",
      "\tAUC value is: 0.519839110717\n",
      "\t\tall values: [0.52214232854542697, 0.50270006115493149, 0.52110823406288109, 0.52248708991484116, 0.52028069890453987, 0.52825317258813798, 0.51306706766034182, 0.51810502268378422, 0.5249457697399349, 0.52530166191190664]\n",
      "\n",
      "\tAverage deviation is: 0.599148033147\n",
      "\t\tall values: [0.61177120795157802, 0.60344471475389805, 0.57855127112673932, 0.58924207777547455, 0.58967229929852072, 0.59935318486350331, 0.61830583479589452, 0.5990689645944729, 0.61047898777457577, 0.59159178853178507]\n"
     ]
    }
   ],
   "source": [
    "auc_th = 2.5\n",
    "\n",
    "print('with Orthology')\n",
    "relations = [fusion.Relation(prot_rna, prot, genes, name='catrapid'),\n",
    "             fusion.Relation(OG_prot, OG, prot)]\n",
    "row_cross_validate(relations, cv_fold=10, th=auc_th)\n",
    "\n",
    "\n"
   ]
  },
  {
   "cell_type": "code",
   "execution_count": 9,
   "metadata": {
    "collapsed": false
   },
   "outputs": [
    {
     "name": "stdout",
     "output_type": "stream",
     "text": [
      "Only Interactions:\n",
      "\tAUC value is: 0.525296186235\n",
      "\t\tall values: [0.51028930152543694, 0.51982224392704568, 0.52037946092502996, 0.52181328480695899, 0.52427251442677225, 0.5438022245865517, 0.52784037029678543, 0.52405751787719645, 0.52959236951084399, 0.53109257446904057]\n",
      "\n",
      "\tAverage deviation is: 0.599167113956\n",
      "\t\tall values: [0.61176825246553079, 0.60343899601621009, 0.57859316305901187, 0.58926603946871814, 0.58969797513351419, 0.59938773432253578, 0.61833117728607312, 0.59908505143796209, 0.61050607417677283, 0.59159667619714529]\n",
      "\n"
     ]
    }
   ],
   "source": [
    "print('Only Interactions:')\n",
    "relations = [fusion.Relation(prot_rna, prot, genes, name='catrapid')]\n",
    "row_cross_validate(relations, cv_fold=10, th=auc_th)\n",
    "print()"
   ]
  }
 ],
 "metadata": {
  "kernelspec": {
   "display_name": "Python 3",
   "language": "python",
   "name": "python3"
  },
  "language_info": {
   "codemirror_mode": {
    "name": "ipython",
    "version": 3
   },
   "file_extension": ".py",
   "mimetype": "text/x-python",
   "name": "python",
   "nbconvert_exporter": "python",
   "pygments_lexer": "ipython3",
   "version": "3.4.1"
  }
 },
 "nbformat": 4,
 "nbformat_minor": 0
}
