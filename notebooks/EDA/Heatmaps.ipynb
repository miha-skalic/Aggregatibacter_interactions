{
 "cells": [
  {
   "cell_type": "markdown",
   "metadata": {},
   "source": [
    "This notebook contains code for heatmaps creations."
   ]
  },
  {
   "cell_type": "code",
   "execution_count": 1,
   "metadata": {
    "collapsed": false
   },
   "outputs": [],
   "source": [
    "import pickle\n",
    "import matplotlib.pyplot as plt\n",
    "\n",
    "# %matplotlib inline\n",
    "# plt.rcParams['figure.figsize'] = (15.0, 8.0)"
   ]
  },
  {
   "cell_type": "code",
   "execution_count": 2,
   "metadata": {
    "collapsed": false
   },
   "outputs": [],
   "source": [
    "# heatmap plotting functions\n",
    "\n",
    "import scipy.cluster.hierarchy as sch\n",
    "import scipy.spatial.distance as dist\n",
    "import matplotlib\n",
    "import numpy as np\n",
    "import matplotlib as mpl\n",
    "import matplotlib.pyplot as plt\n",
    "\n",
    "\n",
    "def RedBlackGreen():\n",
    "    \"\"\"\n",
    "    Creates red to RedtoGreenColors\n",
    "    \"\"\"\n",
    "    cdict = {'red':   ((0.0, 0.0, 0.0),\n",
    "                       (0.5, 0.0, 0.1),\n",
    "                       (1.0, 1.0, 1.0)),\n",
    "\n",
    "             'blue': ((0.0, 0.0, 0.0),\n",
    "                       (1.0, 0.0, 0.0)),\n",
    "\n",
    "             'green':  ((0.0, 0.0, 1.0),\n",
    "                       (0.5, 0.1, 0.0),\n",
    "                       (1.0, 0.0, 0.0))\n",
    "            }\n",
    "    my_cmap = matplotlib.colors.LinearSegmentedColormap('my_colormap',cdict,256)\n",
    "    return my_cmap\n",
    "\n",
    "\n",
    "def vals_norm(x):\n",
    "    \"\"\"\n",
    "    Normalization for plotting\n",
    "    \"\"\"\n",
    "    vmin=x.min()\n",
    "    vmax=x.max()\n",
    "    vmax = max([vmax,abs(vmin)])\n",
    "    vmin = vmax*-1\n",
    "    return mpl.colors.Normalize(vmin/2, vmax/2)\n",
    "\n",
    "def get_order(my_mat):\n",
    "    \"\"\"\n",
    "    Returns first and second dimension indencies after hirachical clustering\n",
    "    \"\"\"\n",
    "    d_mat = dist.pdist(my_mat, 'euclidean')\n",
    "    h_clust = sch.linkage(d_mat, method='complete')\n",
    "    dim1_order = sch.leaves_list(h_clust)\n",
    "\n",
    "    my_mat = my_mat.T\n",
    "    d_mat = dist.pdist(my_mat, 'euclidean')\n",
    "    h_clust = sch.linkage(d_mat, method='complete')\n",
    "    dim2_order = sch.leaves_list(h_clust)\n",
    "\n",
    "    return dim1_order, dim2_order\n",
    "\n",
    "\n",
    "def reorder_matrix( my_mat, dim1_rnk, dim2_rnk):\n",
    "    \"\"\"\n",
    "    Reorders matrix by given indencies\n",
    "    \"\"\"\n",
    "    my_mat = my_mat[dim1_rnk, :]\n",
    "    return my_mat[:, dim2_rnk]\n",
    "\n",
    "\n",
    "def heat_map(in_mat, save_file, title='empty', xy_axis= ['Genes', 'Proteins'], cmap='gray',\n",
    "             norm=None, dpi=1000):\n",
    "    \"\"\"\n",
    "    Creates a heatmap\n",
    "    \"\"\"\n",
    "\n",
    "    fig = plt.figure()\n",
    "    plot_array = np.array(in_mat)\n",
    "    if not norm:\n",
    "        norm=vals_norm(plot_array)\n",
    "    plt.pcolor(plot_array, cmap=cmap, norm=norm)\n",
    "    plt.title(title)\n",
    "    plt.xlabel(xy_axis[0])\n",
    "    plt.ylabel(xy_axis[1])\n",
    "    plt.colorbar()\n",
    "    fig.savefig(save_file, format=\"png\", dpi=dpi)\n"
   ]
  },
  {
   "cell_type": "markdown",
   "metadata": {},
   "source": [
    "# Heatmap plot"
   ]
  },
  {
   "cell_type": "code",
   "execution_count": 3,
   "metadata": {
    "collapsed": false
   },
   "outputs": [],
   "source": [
    "# Data selection\n",
    "prot_rna = pickle.load(open('../../matrices/pickles/cr_z-score_raw.pkl', 'rb'))\n",
    "\n",
    "# remove data for genes with no catrapid prediction\n",
    "selection = prot_rna.any(axis=1)\n",
    "prot_rna = prot_rna[selection,:]\n"
   ]
  },
  {
   "cell_type": "code",
   "execution_count": 4,
   "metadata": {
    "collapsed": false
   },
   "outputs": [],
   "source": [
    "prot_rna = prot_rna\n",
    "# plot graphs\n",
    "heat_map(prot_rna, './figures/interactions.png', cmap=RedBlackGreen())"
   ]
  },
  {
   "cell_type": "code",
   "execution_count": 4,
   "metadata": {
    "collapsed": false
   },
   "outputs": [],
   "source": [
    "# threshold check\n",
    "prot_rna = prot_rna > 2.5\n",
    "prot_rna = prot_rna.astype(int)\n",
    "c_vals = vals_norm(prot_rna)\n",
    "xnorm = mpl.colors.Normalize(0,1)\n",
    "\n",
    "heat_map(prot_rna, './figures/interactions_gt_2_5.png', title='interactions greater than 2.5', norm=xnorm)"
   ]
  },
  {
   "cell_type": "markdown",
   "metadata": {},
   "source": [
    "# Reconstruction Plot"
   ]
  },
  {
   "cell_type": "code",
   "execution_count": 3,
   "metadata": {
    "collapsed": false
   },
   "outputs": [],
   "source": [
    "# Plots HEATMAP: 1/4 of the points (After reconstruction)\n",
    "\n",
    "\n",
    "from skfusion import fusion\n",
    "from math import ceil\n",
    "import sys\n",
    "sys.path.append('..')\n",
    "from cross_validation import *\n",
    "\n",
    "k_select = lambda x: max((ceil(x * 0.05), 2))\n",
    "\n",
    "def dfmf_n_reconstruct(relationships, random_state=1):\n",
    "    \"\"\"\n",
    "    Given relationships, reconstructs the matrix\n",
    "    \"\"\"\n",
    "    fusion_graph = fusion.FusionGraph(relations)\n",
    "\n",
    "    fuser = fusion.Dfmf(random_state=random_state)\n",
    "    fuser.fuse(fusion_graph)\n",
    "    return fuser.complete(fusion_graph['catrapid'])\n",
    "\n",
    "\n",
    "def cross_validate_heatmaps(relations, savefile, cv_fold=10, th=2.5, random_state=1, dpi=600):\n",
    "    \"\"\"\n",
    "    Performs cross valiation on give first matrix of relation and \n",
    "    returns average AUC score and average deviation.\n",
    "    \"\"\"\n",
    "    auc_vals = []\n",
    "    avr_dev = []\n",
    "    orig_matrix = relations[0].data\n",
    "    # heat_map(orig_matrix[:int(orig_matrix.shape[0]/4),:int(orig_matrix.shape[1]/4)], \n",
    "    #          './figures/reconstruction/interactions_quorter.png', cmap=RedBlackGreen(), dpi=600)\n",
    "    \n",
    "    n = 0\n",
    "    for cv_matrix, elements in matrix_cv_setup(orig_matrix, n_fold=cv_fold, alternative=0, by_row=True):\n",
    "        relations[0].data = cv_matrix\n",
    "        reconst_mat = dfmf_n_reconstruct(relations, random_state=random_state)\n",
    "        n+=1\n",
    "        heat_map(reconst_mat[:int(reconst_mat.shape[0]/4),:int(reconst_mat.shape[1]/4)], \n",
    "                 './figures/reconstruction/{}{}.png'.format(savefile, n), cmap=RedBlackGreen(), dpi=600)\n",
    "\n",
    "prot_rna = pickle.load(open('../../matrices/pickles/cr_z-score_raw.pkl', 'rb'))\n",
    "selection = prot_rna.any(axis=1)\n",
    "prot_rna = prot_rna[selection,:]\n",
    "\n",
    "prot = fusion.ObjectType('AAprot', k_select(prot_rna.shape[0]))\n",
    "genes = fusion.ObjectType('HSgenes', k_select(prot_rna.shape[1]))\n",
    "\n",
    "rna_expression = pickle.load(open('../../matrices/pickles/MA_exp.pkl', 'rb'))\n",
    "rna_expression = rna_expression.reshape(rna_expression.shape[0],1)\n",
    "rna_expression = np.hstack((rna_expression, rna_expression, rna_expression, rna_expression, rna_expression))\n",
    "expr = fusion.ObjectType('HSexpression', k_select(rna_expression.shape[1]))\n"
   ]
  },
  {
   "cell_type": "code",
   "execution_count": null,
   "metadata": {
    "collapsed": true
   },
   "outputs": [],
   "source": [
    "relations = [fusion.Relation(prot_rna, prot, genes, name='catrapid')]\n",
    "cross_validate_heatmaps(relations, savefile='interactions_quorter_CVreconstruction')\n"
   ]
  },
  {
   "cell_type": "code",
   "execution_count": 4,
   "metadata": {
    "collapsed": false
   },
   "outputs": [
    {
     "ename": "KeyboardInterrupt",
     "evalue": "",
     "output_type": "error",
     "traceback": [
      "\u001b[1;31m---------------------------------------------------------------------------\u001b[0m",
      "\u001b[1;31mKeyboardInterrupt\u001b[0m                         Traceback (most recent call last)",
      "\u001b[1;32m<ipython-input-4-ae871682fcb4>\u001b[0m in \u001b[0;36m<module>\u001b[1;34m()\u001b[0m\n\u001b[0;32m      1\u001b[0m relations = [fusion.Relation(prot_rna, prot, genes, name='catrapid'),\n\u001b[0;32m      2\u001b[0m              fusion.Relation(rna_expression, genes, expr)]\n\u001b[1;32m----> 3\u001b[1;33m \u001b[0mcross_validate_heatmaps\u001b[0m\u001b[1;33m(\u001b[0m\u001b[0mrelations\u001b[0m\u001b[1;33m,\u001b[0m \u001b[0msavefile\u001b[0m\u001b[1;33m=\u001b[0m\u001b[1;34m'interactions_quorter_expr_CVreconstruction'\u001b[0m\u001b[1;33m)\u001b[0m\u001b[1;33m\u001b[0m\u001b[0m\n\u001b[0m\u001b[0;32m      4\u001b[0m \u001b[1;33m\u001b[0m\u001b[0m\n",
      "\u001b[1;32m<ipython-input-3-acefe6e1335f>\u001b[0m in \u001b[0;36mcross_validate_heatmaps\u001b[1;34m(relations, savefile, cv_fold, th, random_state, dpi)\u001b[0m\n\u001b[0;32m     35\u001b[0m     \u001b[1;32mfor\u001b[0m \u001b[0mcv_matrix\u001b[0m\u001b[1;33m,\u001b[0m \u001b[0melements\u001b[0m \u001b[1;32min\u001b[0m \u001b[0mmatrix_cv_setup\u001b[0m\u001b[1;33m(\u001b[0m\u001b[0morig_matrix\u001b[0m\u001b[1;33m,\u001b[0m \u001b[0mn_fold\u001b[0m\u001b[1;33m=\u001b[0m\u001b[0mcv_fold\u001b[0m\u001b[1;33m,\u001b[0m \u001b[0malternative\u001b[0m\u001b[1;33m=\u001b[0m\u001b[1;36m0\u001b[0m\u001b[1;33m,\u001b[0m \u001b[0mby_row\u001b[0m\u001b[1;33m=\u001b[0m\u001b[1;32mTrue\u001b[0m\u001b[1;33m)\u001b[0m\u001b[1;33m:\u001b[0m\u001b[1;33m\u001b[0m\u001b[0m\n\u001b[0;32m     36\u001b[0m         \u001b[0mrelations\u001b[0m\u001b[1;33m[\u001b[0m\u001b[1;36m0\u001b[0m\u001b[1;33m]\u001b[0m\u001b[1;33m.\u001b[0m\u001b[0mdata\u001b[0m \u001b[1;33m=\u001b[0m \u001b[0mcv_matrix\u001b[0m\u001b[1;33m\u001b[0m\u001b[0m\n\u001b[1;32m---> 37\u001b[1;33m         \u001b[0mreconst_mat\u001b[0m \u001b[1;33m=\u001b[0m \u001b[0mdfmf_n_reconstruct\u001b[0m\u001b[1;33m(\u001b[0m\u001b[0mrelations\u001b[0m\u001b[1;33m,\u001b[0m \u001b[0mrandom_state\u001b[0m\u001b[1;33m=\u001b[0m\u001b[0mrandom_state\u001b[0m\u001b[1;33m)\u001b[0m\u001b[1;33m\u001b[0m\u001b[0m\n\u001b[0m\u001b[0;32m     38\u001b[0m         \u001b[0mn\u001b[0m\u001b[1;33m+=\u001b[0m\u001b[1;36m1\u001b[0m\u001b[1;33m\u001b[0m\u001b[0m\n\u001b[0;32m     39\u001b[0m         heat_map(reconst_mat[:int(reconst_mat.shape[0]/4),:int(reconst_mat.shape[1]/4)], \n",
      "\u001b[1;32m<ipython-input-3-acefe6e1335f>\u001b[0m in \u001b[0;36mdfmf_n_reconstruct\u001b[1;34m(relationships, random_state)\u001b[0m\n\u001b[0;32m     17\u001b[0m \u001b[1;33m\u001b[0m\u001b[0m\n\u001b[0;32m     18\u001b[0m     \u001b[0mfuser\u001b[0m \u001b[1;33m=\u001b[0m \u001b[0mfusion\u001b[0m\u001b[1;33m.\u001b[0m\u001b[0mDfmf\u001b[0m\u001b[1;33m(\u001b[0m\u001b[0mrandom_state\u001b[0m\u001b[1;33m=\u001b[0m\u001b[0mrandom_state\u001b[0m\u001b[1;33m)\u001b[0m\u001b[1;33m\u001b[0m\u001b[0m\n\u001b[1;32m---> 19\u001b[1;33m     \u001b[0mfuser\u001b[0m\u001b[1;33m.\u001b[0m\u001b[0mfuse\u001b[0m\u001b[1;33m(\u001b[0m\u001b[0mfusion_graph\u001b[0m\u001b[1;33m)\u001b[0m\u001b[1;33m\u001b[0m\u001b[0m\n\u001b[0m\u001b[0;32m     20\u001b[0m     \u001b[1;32mreturn\u001b[0m \u001b[0mfuser\u001b[0m\u001b[1;33m.\u001b[0m\u001b[0mcomplete\u001b[0m\u001b[1;33m(\u001b[0m\u001b[0mfusion_graph\u001b[0m\u001b[1;33m[\u001b[0m\u001b[1;34m'catrapid'\u001b[0m\u001b[1;33m]\u001b[0m\u001b[1;33m)\u001b[0m\u001b[1;33m\u001b[0m\u001b[0m\n\u001b[0;32m     21\u001b[0m \u001b[1;33m\u001b[0m\u001b[0m\n",
      "\u001b[1;32mC:\\Python34\\lib\\site-packages\\scikit_fusion-0.1-py3.4.egg\\skfusion\\fusion\\decomposition\\dfmf.py\u001b[0m in \u001b[0;36mfuse\u001b[1;34m(self, fusion_graph)\u001b[0m\n\u001b[0;32m     93\u001b[0m             n_jobs=self.n_jobs)\n\u001b[0;32m     94\u001b[0m                      for _ in range(self.n_run))\n\u001b[1;32m---> 95\u001b[1;33m         \u001b[0mentries\u001b[0m \u001b[1;33m=\u001b[0m \u001b[0mparallelizer\u001b[0m\u001b[1;33m(\u001b[0m\u001b[0mtask_iter\u001b[0m\u001b[1;33m)\u001b[0m\u001b[1;33m\u001b[0m\u001b[0m\n\u001b[0m\u001b[0;32m     96\u001b[0m \u001b[1;33m\u001b[0m\u001b[0m\n\u001b[0;32m     97\u001b[0m         \u001b[0mself\u001b[0m\u001b[1;33m.\u001b[0m\u001b[0mfactors_\u001b[0m \u001b[1;33m=\u001b[0m \u001b[0mdefaultdict\u001b[0m\u001b[1;33m(\u001b[0m\u001b[0mlist\u001b[0m\u001b[1;33m)\u001b[0m\u001b[1;33m\u001b[0m\u001b[0m\n",
      "\u001b[1;32mC:\\Python34\\lib\\site-packages\\joblib\\parallel.py\u001b[0m in \u001b[0;36m__call__\u001b[1;34m(self, iterable)\u001b[0m\n\u001b[0;32m    651\u001b[0m             \u001b[0mself\u001b[0m\u001b[1;33m.\u001b[0m\u001b[0m_iterating\u001b[0m \u001b[1;33m=\u001b[0m \u001b[1;32mTrue\u001b[0m\u001b[1;33m\u001b[0m\u001b[0m\n\u001b[0;32m    652\u001b[0m             \u001b[1;32mfor\u001b[0m \u001b[0mfunction\u001b[0m\u001b[1;33m,\u001b[0m \u001b[0margs\u001b[0m\u001b[1;33m,\u001b[0m \u001b[0mkwargs\u001b[0m \u001b[1;32min\u001b[0m \u001b[0miterable\u001b[0m\u001b[1;33m:\u001b[0m\u001b[1;33m\u001b[0m\u001b[0m\n\u001b[1;32m--> 653\u001b[1;33m                 \u001b[0mself\u001b[0m\u001b[1;33m.\u001b[0m\u001b[0mdispatch\u001b[0m\u001b[1;33m(\u001b[0m\u001b[0mfunction\u001b[0m\u001b[1;33m,\u001b[0m \u001b[0margs\u001b[0m\u001b[1;33m,\u001b[0m \u001b[0mkwargs\u001b[0m\u001b[1;33m)\u001b[0m\u001b[1;33m\u001b[0m\u001b[0m\n\u001b[0m\u001b[0;32m    654\u001b[0m \u001b[1;33m\u001b[0m\u001b[0m\n\u001b[0;32m    655\u001b[0m             \u001b[1;32mif\u001b[0m \u001b[0mpre_dispatch\u001b[0m \u001b[1;33m==\u001b[0m \u001b[1;34m\"all\"\u001b[0m \u001b[1;32mor\u001b[0m \u001b[0mn_jobs\u001b[0m \u001b[1;33m==\u001b[0m \u001b[1;36m1\u001b[0m\u001b[1;33m:\u001b[0m\u001b[1;33m\u001b[0m\u001b[0m\n",
      "\u001b[1;32mC:\\Python34\\lib\\site-packages\\joblib\\parallel.py\u001b[0m in \u001b[0;36mdispatch\u001b[1;34m(self, func, args, kwargs)\u001b[0m\n\u001b[0;32m    398\u001b[0m         \"\"\"\n\u001b[0;32m    399\u001b[0m         \u001b[1;32mif\u001b[0m \u001b[0mself\u001b[0m\u001b[1;33m.\u001b[0m\u001b[0m_pool\u001b[0m \u001b[1;32mis\u001b[0m \u001b[1;32mNone\u001b[0m\u001b[1;33m:\u001b[0m\u001b[1;33m\u001b[0m\u001b[0m\n\u001b[1;32m--> 400\u001b[1;33m             \u001b[0mjob\u001b[0m \u001b[1;33m=\u001b[0m \u001b[0mImmediateApply\u001b[0m\u001b[1;33m(\u001b[0m\u001b[0mfunc\u001b[0m\u001b[1;33m,\u001b[0m \u001b[0margs\u001b[0m\u001b[1;33m,\u001b[0m \u001b[0mkwargs\u001b[0m\u001b[1;33m)\u001b[0m\u001b[1;33m\u001b[0m\u001b[0m\n\u001b[0m\u001b[0;32m    401\u001b[0m             \u001b[0mindex\u001b[0m \u001b[1;33m=\u001b[0m \u001b[0mlen\u001b[0m\u001b[1;33m(\u001b[0m\u001b[0mself\u001b[0m\u001b[1;33m.\u001b[0m\u001b[0m_jobs\u001b[0m\u001b[1;33m)\u001b[0m\u001b[1;33m\u001b[0m\u001b[0m\n\u001b[0;32m    402\u001b[0m             \u001b[1;32mif\u001b[0m \u001b[1;32mnot\u001b[0m \u001b[0m_verbosity_filter\u001b[0m\u001b[1;33m(\u001b[0m\u001b[0mindex\u001b[0m\u001b[1;33m,\u001b[0m \u001b[0mself\u001b[0m\u001b[1;33m.\u001b[0m\u001b[0mverbose\u001b[0m\u001b[1;33m)\u001b[0m\u001b[1;33m:\u001b[0m\u001b[1;33m\u001b[0m\u001b[0m\n",
      "\u001b[1;32mC:\\Python34\\lib\\site-packages\\joblib\\parallel.py\u001b[0m in \u001b[0;36m__init__\u001b[1;34m(self, func, args, kwargs)\u001b[0m\n\u001b[0;32m    136\u001b[0m         \u001b[1;31m# Don't delay the application, to avoid keeping the input\u001b[0m\u001b[1;33m\u001b[0m\u001b[1;33m\u001b[0m\u001b[0m\n\u001b[0;32m    137\u001b[0m         \u001b[1;31m# arguments in memory\u001b[0m\u001b[1;33m\u001b[0m\u001b[1;33m\u001b[0m\u001b[0m\n\u001b[1;32m--> 138\u001b[1;33m         \u001b[0mself\u001b[0m\u001b[1;33m.\u001b[0m\u001b[0mresults\u001b[0m \u001b[1;33m=\u001b[0m \u001b[0mfunc\u001b[0m\u001b[1;33m(\u001b[0m\u001b[1;33m*\u001b[0m\u001b[0margs\u001b[0m\u001b[1;33m,\u001b[0m \u001b[1;33m**\u001b[0m\u001b[0mkwargs\u001b[0m\u001b[1;33m)\u001b[0m\u001b[1;33m\u001b[0m\u001b[0m\n\u001b[0m\u001b[0;32m    139\u001b[0m \u001b[1;33m\u001b[0m\u001b[0m\n\u001b[0;32m    140\u001b[0m     \u001b[1;32mdef\u001b[0m \u001b[0mget\u001b[0m\u001b[1;33m(\u001b[0m\u001b[0mself\u001b[0m\u001b[1;33m)\u001b[0m\u001b[1;33m:\u001b[0m\u001b[1;33m\u001b[0m\u001b[0m\n",
      "\u001b[1;32mC:\\Python34\\lib\\site-packages\\scikit_fusion-0.1-py3.4.egg\\skfusion\\fusion\\decomposition\\dfmf.py\u001b[0m in \u001b[0;36mparallel_dfmf_wrapper\u001b[1;34m(**params)\u001b[0m\n\u001b[0;32m     13\u001b[0m \u001b[1;33m\u001b[0m\u001b[0m\n\u001b[0;32m     14\u001b[0m \u001b[1;32mdef\u001b[0m \u001b[0mparallel_dfmf_wrapper\u001b[0m\u001b[1;33m(\u001b[0m\u001b[1;33m**\u001b[0m\u001b[0mparams\u001b[0m\u001b[1;33m)\u001b[0m\u001b[1;33m:\u001b[0m\u001b[1;33m\u001b[0m\u001b[0m\n\u001b[1;32m---> 15\u001b[1;33m     \u001b[1;32mreturn\u001b[0m \u001b[0mdfmf\u001b[0m\u001b[1;33m(\u001b[0m\u001b[1;33m**\u001b[0m\u001b[0mparams\u001b[0m\u001b[1;33m)\u001b[0m\u001b[1;33m\u001b[0m\u001b[0m\n\u001b[0m\u001b[0;32m     16\u001b[0m \u001b[1;33m\u001b[0m\u001b[0m\n\u001b[0;32m     17\u001b[0m \u001b[1;33m\u001b[0m\u001b[0m\n",
      "\u001b[1;32mC:\\Python34\\lib\\site-packages\\scikit_fusion-0.1-py3.4.egg\\skfusion\\fusion\\decomposition\\_dfmf.py\u001b[0m in \u001b[0;36mdfmf\u001b[1;34m(R, Theta, obj_types, obj_type2rank, max_iter, init_type, stopping, stopping_system, verbose, compute_err, callback, random_state, n_jobs)\u001b[0m\n\u001b[0;32m    264\u001b[0m                 \u001b[0mtmp2n\u001b[0m \u001b[1;33m=\u001b[0m \u001b[0mnp\u001b[0m\u001b[1;33m.\u001b[0m\u001b[0mmultiply\u001b[0m\u001b[1;33m(\u001b[0m\u001b[0mt\u001b[0m\u001b[1;33m-\u001b[0m\u001b[1;36m1\u001b[0m\u001b[1;33m,\u001b[0m \u001b[0mtmp2\u001b[0m\u001b[1;33m)\u001b[0m\u001b[1;33m\u001b[0m\u001b[0m\n\u001b[0;32m    265\u001b[0m \u001b[1;33m\u001b[0m\u001b[0m\n\u001b[1;32m--> 266\u001b[1;33m                 \u001b[0mtmp4\u001b[0m \u001b[1;33m=\u001b[0m \u001b[0mnp\u001b[0m\u001b[1;33m.\u001b[0m\u001b[0mdot\u001b[0m\u001b[1;33m(\u001b[0m\u001b[0mR\u001b[0m\u001b[1;33m[\u001b[0m\u001b[0mi\u001b[0m\u001b[1;33m,\u001b[0m \u001b[0mj\u001b[0m\u001b[1;33m]\u001b[0m\u001b[1;33m[\u001b[0m\u001b[0ml\u001b[0m\u001b[1;33m]\u001b[0m\u001b[1;33m.\u001b[0m\u001b[0mT\u001b[0m\u001b[1;33m,\u001b[0m \u001b[0mnp\u001b[0m\u001b[1;33m.\u001b[0m\u001b[0mdot\u001b[0m\u001b[1;33m(\u001b[0m\u001b[0mG\u001b[0m\u001b[1;33m[\u001b[0m\u001b[0mi\u001b[0m\u001b[1;33m,\u001b[0m \u001b[0mi\u001b[0m\u001b[1;33m]\u001b[0m\u001b[1;33m,\u001b[0m \u001b[0mS\u001b[0m\u001b[1;33m[\u001b[0m\u001b[0mi\u001b[0m\u001b[1;33m,\u001b[0m \u001b[0mj\u001b[0m\u001b[1;33m]\u001b[0m\u001b[1;33m[\u001b[0m\u001b[0ml\u001b[0m\u001b[1;33m]\u001b[0m\u001b[1;33m)\u001b[0m\u001b[1;33m)\u001b[0m\u001b[1;33m\u001b[0m\u001b[0m\n\u001b[0m\u001b[0;32m    267\u001b[0m                 \u001b[0mtmp4\u001b[0m \u001b[1;33m=\u001b[0m \u001b[0mnp\u001b[0m\u001b[1;33m.\u001b[0m\u001b[0mnan_to_num\u001b[0m\u001b[1;33m(\u001b[0m\u001b[0mtmp4\u001b[0m\u001b[1;33m)\u001b[0m\u001b[1;33m\u001b[0m\u001b[0m\n\u001b[0;32m    268\u001b[0m                 \u001b[0mt\u001b[0m \u001b[1;33m=\u001b[0m \u001b[0mtmp4\u001b[0m \u001b[1;33m>\u001b[0m \u001b[1;36m0\u001b[0m\u001b[1;33m\u001b[0m\u001b[0m\n",
      "\u001b[1;31mKeyboardInterrupt\u001b[0m: "
     ]
    }
   ],
   "source": [
    "relations = [fusion.Relation(prot_rna, prot, genes, name='catrapid'),\n",
    "             fusion.Relation(rna_expression, genes, expr)]\n",
    "cross_validate_heatmaps(relations, savefile='interactions_quorter_expr_CVreconstruction')\n",
    "\n"
   ]
  }
 ],
 "metadata": {
  "kernelspec": {
   "display_name": "Python 3",
   "language": "python",
   "name": "python3"
  },
  "language_info": {
   "codemirror_mode": {
    "name": "ipython",
    "version": 3
   },
   "file_extension": ".py",
   "mimetype": "text/x-python",
   "name": "python",
   "nbconvert_exporter": "python",
   "pygments_lexer": "ipython3",
   "version": "3.4.1"
  }
 },
 "nbformat": 4,
 "nbformat_minor": 0
}
