{
 "cells": [
  {
   "cell_type": "markdown",
   "metadata": {},
   "source": [
    "This notebook contains code for heatmaps creations."
   ]
  },
  {
   "cell_type": "code",
   "execution_count": 1,
   "metadata": {
    "collapsed": false
   },
   "outputs": [],
   "source": [
    "import pickle\n",
    "import matplotlib.pyplot as plt\n",
    "\n",
    "# %matplotlib inline\n",
    "# plt.rcParams['figure.figsize'] = (15.0, 8.0)"
   ]
  },
  {
   "cell_type": "code",
   "execution_count": 2,
   "metadata": {
    "collapsed": false
   },
   "outputs": [],
   "source": [
    "# heatmap plotting functions\n",
    "\n",
    "import scipy.cluster.hierarchy as sch\n",
    "import scipy.spatial.distance as dist\n",
    "import matplotlib\n",
    "import numpy as np\n",
    "import matplotlib as mpl\n",
    "import matplotlib.pyplot as plt\n",
    "\n",
    "\n",
    "def RedBlackGreen():\n",
    "    \"\"\"\n",
    "    Creates red to RedtoGreenColors\n",
    "    \"\"\"\n",
    "    cdict = {'red':   ((0.0, 0.0, 0.0),\n",
    "                       (0.5, 0.0, 0.1),\n",
    "                       (1.0, 1.0, 1.0)),\n",
    "\n",
    "             'blue': ((0.0, 0.0, 0.0),\n",
    "                       (1.0, 0.0, 0.0)),\n",
    "\n",
    "             'green':  ((0.0, 0.0, 1.0),\n",
    "                       (0.5, 0.1, 0.0),\n",
    "                       (1.0, 0.0, 0.0))\n",
    "            }\n",
    "    my_cmap = matplotlib.colors.LinearSegmentedColormap('my_colormap',cdict,256)\n",
    "    return my_cmap\n",
    "\n",
    "\n",
    "def vals_norm(x):\n",
    "    \"\"\"\n",
    "    Normalization for plotting\n",
    "    \"\"\"\n",
    "    vmin=x.min()\n",
    "    vmax=x.max()\n",
    "    vmax = max([vmax,abs(vmin)])\n",
    "    vmin = vmax*-1\n",
    "    return mpl.colors.Normalize(vmin/2, vmax/2)\n",
    "\n",
    "def get_order(my_mat):\n",
    "    \"\"\"\n",
    "    Returns first and second dimension indencies after hirachical clustering\n",
    "    \"\"\"\n",
    "    d_mat = dist.pdist(my_mat, 'euclidean')\n",
    "    h_clust = sch.linkage(d_mat, method='complete')\n",
    "    dim1_order = sch.leaves_list(h_clust)\n",
    "\n",
    "    my_mat = my_mat.T\n",
    "    d_mat = dist.pdist(my_mat, 'euclidean')\n",
    "    h_clust = sch.linkage(d_mat, method='complete')\n",
    "    dim2_order = sch.leaves_list(h_clust)\n",
    "\n",
    "    return dim1_order, dim2_order\n",
    "\n",
    "\n",
    "def reorder_matrix( my_mat, dim1_rnk, dim2_rnk):\n",
    "    \"\"\"\n",
    "    Reorders matrix by given indencies\n",
    "    \"\"\"\n",
    "    my_mat = my_mat[dim1_rnk, :]\n",
    "    return my_mat[:, dim2_rnk]\n",
    "\n",
    "\n",
    "def heat_map(in_mat, save_file, title='empty', xy_axis= ['Genes', 'Proteins'], cmap='gray',\n",
    "             norm=None):\n",
    "    \"\"\"\n",
    "    Creates a heatmap\n",
    "    \"\"\"\n",
    "\n",
    "    fig = plt.figure()\n",
    "    plot_array = np.array(in_mat)\n",
    "    if not norm:\n",
    "        norm=vals_norm(plot_array)\n",
    "    plt.pcolor(plot_array, cmap=cmap, norm=norm)\n",
    "    plt.title(title)\n",
    "    plt.xlabel(xy_axis[0])\n",
    "    plt.ylabel(xy_axis[1])\n",
    "    plt.colorbar()\n",
    "    fig.savefig(save_file, format=\"png\", dpi=1000)\n"
   ]
  },
  {
   "cell_type": "code",
   "execution_count": 3,
   "metadata": {
    "collapsed": false
   },
   "outputs": [],
   "source": [
    "# Data selection\n",
    "prot_rna = pickle.load(open('../../matrices/pickles/cr_z-score_raw.pkl', 'rb'))\n",
    "\n",
    "# remove data for genes with no catrapid prediction\n",
    "selection = prot_rna.any(axis=1)\n",
    "prot_rna = prot_rna[selection,:]\n"
   ]
  },
  {
   "cell_type": "code",
   "execution_count": 4,
   "metadata": {
    "collapsed": false
   },
   "outputs": [],
   "source": [
    "prot_rna = prot_rna\n",
    "# plot graphs\n",
    "heat_map(prot_rna, './figures/interactions.png', cmap=RedBlackGreen())"
   ]
  },
  {
   "cell_type": "code",
   "execution_count": 4,
   "metadata": {
    "collapsed": false
   },
   "outputs": [],
   "source": [
    "# threshold check\n",
    "prot_rna = prot_rna > 2.5\n",
    "prot_rna = prot_rna.astype(int)\n",
    "c_vals = vals_norm(prot_rna)\n",
    "xnorm = mpl.colors.Normalize(0,1)\n",
    "\n",
    "heat_map(prot_rna, './figures/interactions_gt_2_5.png', title='interactions greater than 2.5', norm=xnorm)"
   ]
  }
 ],
 "metadata": {
  "kernelspec": {
   "display_name": "Python 3",
   "language": "python",
   "name": "python3"
  },
  "language_info": {
   "codemirror_mode": {
    "name": "ipython",
    "version": 3
   },
   "file_extension": ".py",
   "mimetype": "text/x-python",
   "name": "python",
   "nbconvert_exporter": "python",
   "pygments_lexer": "ipython3",
   "version": "3.4.1"
  }
 },
 "nbformat": 4,
 "nbformat_minor": 0
}
