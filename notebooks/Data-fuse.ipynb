{
 "cells": [
  {
   "cell_type": "markdown",
   "metadata": {},
   "source": [
    "<br>\n",
    "<font color=\"#500000\" size=15 style=\"margin:2cm\"> AGGREGATIBACTER FUSE</font>\n",
    "\n"
   ]
  },
  {
   "cell_type": "code",
   "execution_count": 1,
   "metadata": {
    "collapsed": false
   },
   "outputs": [],
   "source": [
    "# importing modules\n",
    "import matplotlib.pyplot as plt\n",
    "import numpy as np\n",
    "from skfusion import fusion\n",
    "from cross_validation import *\n",
    "import pickle\n",
    "%matplotlib inline\n",
    "plt.rcParams['figure.figsize'] = (15.0, 8.0)"
   ]
  },
  {
   "cell_type": "markdown",
   "metadata": {},
   "source": [
    "#Matrices import"
   ]
  },
  {
   "cell_type": "markdown",
   "metadata": {},
   "source": [
    "Load in all the matrices!"
   ]
  },
  {
   "cell_type": "code",
   "execution_count": 2,
   "metadata": {
    "collapsed": false
   },
   "outputs": [],
   "source": [
    "prot_rna = pickle.load(open('../matrices/pickles/cr_z-score_raw.pkl', 'rb'))\n",
    "secretion_prot = pickle.load(open('../matrices/pickles/signalP.pkl', 'rb'))\n",
    "rna_expression = pickle.load(open('../matrices/pickles/MA_exp.pkl', 'rb'))\n"
   ]
  },
  {
   "cell_type": "markdown",
   "metadata": {},
   "source": [
    "# Data transformation"
   ]
  },
  {
   "cell_type": "code",
   "execution_count": 3,
   "metadata": {
    "collapsed": false
   },
   "outputs": [
    {
     "name": "stdout",
     "output_type": "stream",
     "text": [
      "secretion_prot: (5, 2001)\n",
      "rna_expression: (7097, 5)\n",
      "prot_rna: (2001, 7097)\n"
     ]
    }
   ],
   "source": [
    "# remove data for genes with no catrapid prediction\n",
    "selection = prot_rna.any(axis=1)\n",
    "prot_rna = prot_rna[selection,:]\n",
    "secretion_prot = secretion_prot[:, selection]\n",
    "\n",
    "# Addd pseudo rows \n",
    "# TODO: remove when fixed!\n",
    "secretion_prot = np.vstack((secretion_prot, secretion_prot, secretion_prot, secretion_prot, secretion_prot))\n",
    "\n",
    "rna_expression = rna_expression.reshape(rna_expression.shape[0],1)\n",
    "rna_expression = np.hstack((rna_expression, rna_expression, rna_expression, rna_expression, rna_expression))\n",
    "\n",
    "\n",
    "# Display shapes\n",
    "print('secretion_prot:', secretion_prot.shape)\n",
    "print('rna_expression:', rna_expression.shape)\n",
    "print('prot_rna:', prot_rna.shape)"
   ]
  },
  {
   "cell_type": "markdown",
   "metadata": {},
   "source": [
    "# Data fusion setup"
   ]
  },
  {
   "cell_type": "code",
   "execution_count": 4,
   "metadata": {
    "collapsed": false
   },
   "outputs": [],
   "source": [
    "# Define names\n",
    "secretion = fusion.ObjectType('SignalP', 1)\n",
    "prot = fusion.ObjectType('AAprot', 100)\n",
    "genes = fusion.ObjectType('HSgenes', 200)\n",
    "# TODO: lower when possible\n",
    "expr = fusion.ObjectType('HSexpression', 2)\n",
    "\n",
    "# Define relations\n",
    "relations = [fusion.Relation(secretion_prot, secretion, prot),\n",
    "                 fusion.Relation(prot_rna, prot, genes, name='catrapid'),\n",
    "                 fusion.Relation(rna_expression, genes, expr)]\n",
    "\n"
   ]
  },
  {
   "cell_type": "markdown",
   "metadata": {},
   "source": [
    "# Validation Functions"
   ]
  },
  {
   "cell_type": "code",
   "execution_count": 31,
   "metadata": {
    "collapsed": true
   },
   "outputs": [],
   "source": [
    "# Full build\n",
    "def cross_validate(relations, cv_fold=5, th=2.5, random_state=1):\n",
    "    \"\"\"\n",
    "    Performs cross valiation on give first matrix of relation and returns\n",
    "    lists ouf AUC score and average deviation.\n",
    "    \"\"\"\n",
    "    auc_vals = []\n",
    "    avr_dev = []\n",
    "    orig_matrix = relations[0].data\n",
    "    for cv_matrix, elements in matrix_cv_setup(orig_matrix, n_fold=cv_fold, alternative=0):\n",
    "        relations[0].data = cv_matrix\n",
    "        reconst_mat = dfmf_n_reconstruct(relations, random_state=random_state)\n",
    "\n",
    "        auc_vals.append(auc_value(orig_matrix, reconst_mat, elements, treshold=th))\n",
    "        avr_dev.append(avr_res(orig_matrix, reconst_mat, elements))\n",
    "    print('\\tAUC value is:', np.mean(auc_vals))\n",
    "    print('\\tAverage deviation is:', np.mean(avr_dev))\n",
    "    relations[0].data = orig_matrix\n",
    "\n",
    "def dfmf_n_reconstruct(relationships, random_state=1):\n",
    "    \"\"\"\n",
    "    Given relationships, reconstructs the matrix\n",
    "    \"\"\"\n",
    "    fusion_graph = fusion.FusionGraph(relations)\n",
    "\n",
    "    fuser = fusion.Dfmf(random_state=random_state)\n",
    "    fuser.fuse(fusion_graph)\n",
    "    return fuser.complete(fusion_graph['catrapid'])\n"
   ]
  },
  {
   "cell_type": "markdown",
   "metadata": {},
   "source": [
    "# AUC threshold selection"
   ]
  },
  {
   "cell_type": "code",
   "execution_count": 5,
   "metadata": {
    "collapsed": false
   },
   "outputs": [
    {
     "name": "stdout",
     "output_type": "stream",
     "text": [
      "We are calculating for top 11.8882% interactions\n"
     ]
    },
    {
     "data": {
      "image/png": "[encoded data removed]",
      "text/plain": [
       "<matplotlib.figure.Figure at 0x7593e80>"
      ]
     },
     "metadata": {},
     "output_type": "display_data"
    }
   ],
   "source": [
    "auc_th = 1\n",
    "plt.hist(prot_rna.flatten(), bins= 300, log=True);\n",
    "plt.plot((auc_th, auc_th), (0, 10**7));\n",
    "plt.title(\"Interactions distribution\");\n",
    "plt.xlabel(\"Interaction strength\");\n",
    "plt.ylabel(\"Number of interactions\");\n",
    "\n",
    "print('We are calculating for top {:.4f}% interactions'.format(np.sum(prot_rna > auc_th) / prot_rna.size *100))"
   ]
  },
  {
   "cell_type": "markdown",
   "metadata": {},
   "source": [
    "# Predictions"
   ]
  },
  {
   "cell_type": "code",
   "execution_count": 7,
   "metadata": {
    "collapsed": false
   },
   "outputs": [
    {
     "name": "stdout",
     "output_type": "stream",
     "text": [
      "Interactions, Secretion and Expression:\n",
      "\tAUC value is: 0.999139963359\n",
      "\tAverage deviation is: 0.111351484814\n",
      "\n"
     ]
    }
   ],
   "source": [
    "relations = [fusion.Relation(prot_rna, prot, genes, name='catrapid'),\n",
    "             fusion.Relation(secretion_prot, secretion, prot),\n",
    "             fusion.Relation(rna_expression, genes, expr)]\n",
    "\n",
    "print('Interactions, Secretion and Expression:')\n",
    "cross_validate(relations, cv_fold=10, th=auc_th)\n",
    "print()"
   ]
  },
  {
   "cell_type": "code",
   "execution_count": 8,
   "metadata": {
    "collapsed": false
   },
   "outputs": [
    {
     "name": "stdout",
     "output_type": "stream",
     "text": [
      "with Secretion:\n",
      "\tAUC value is: 0.999149572367\n",
      "\tAverage deviation is: 0.111474792171\n",
      "\n"
     ]
    }
   ],
   "source": [
    "print('with Secretion:')\n",
    "relations = [fusion.Relation(prot_rna, prot, genes, name='catrapid'),\n",
    "             fusion.Relation(secretion_prot, secretion, prot)]\n",
    "\n",
    "cross_validate(relations, cv_fold=10, th=auc_th)\n",
    "print()"
   ]
  },
  {
   "cell_type": "code",
   "execution_count": 9,
   "metadata": {
    "collapsed": false
   },
   "outputs": [
    {
     "name": "stdout",
     "output_type": "stream",
     "text": [
      "with Expression:\n",
      "\tAUC value is: 0.999194992586\n",
      "\tAverage deviation is: 0.111102511372\n",
      "\n"
     ]
    }
   ],
   "source": [
    "print('with Expression:')\n",
    "\n",
    "relations = [fusion.Relation(prot_rna, prot, genes, name='catrapid'),\n",
    "             fusion.Relation(rna_expression, genes, expr)]\n",
    "\n",
    "relations.append(fusion.Relation(rna_expression, genes, expr))\n",
    "cross_validate(relations, cv_fold=10, th=auc_th)\n",
    "print()"
   ]
  },
  {
   "cell_type": "code",
   "execution_count": 10,
   "metadata": {
    "collapsed": false
   },
   "outputs": [
    {
     "name": "stdout",
     "output_type": "stream",
     "text": [
      "Only Interactions:\n",
      "\tAUC value is: 0.999209379987\n",
      "\tAverage deviation is: 0.111127912499\n",
      "\n"
     ]
    }
   ],
   "source": [
    "print('Only Interactions:')\n",
    "relations = [fusion.Relation(prot_rna, prot, genes, name='catrapid')]\n",
    "cross_validate(relations, cv_fold=10, th=auc_th)\n",
    "print()"
   ]
  },
  {
   "cell_type": "markdown",
   "metadata": {},
   "source": [
    "<h2>Test on shuffled data</h2>"
   ]
  },
  {
   "cell_type": "code",
   "execution_count": 11,
   "metadata": {
    "collapsed": false
   },
   "outputs": [],
   "source": [
    "\n",
    "\n",
    "def shuffle_rows(my_array, ssed = 100):\n",
    "    \"\"\"\n",
    "    Returns array with rows shuffled\n",
    "    \"\"\"\n",
    "    np.random.seed(ssed)\n",
    "    sh_idx = np.arange(my_array.shape[0])\n",
    "    np.random.shuffle(sh_idx)\n",
    "    return my_array[sh_idx,:]\n",
    "\n",
    "def shuffle_cols(my_array, ssed = 100):\n",
    "    \"\"\"\n",
    "    Returns array with rows shuffled\n",
    "    \"\"\"\n",
    "    np.random.seed(ssed)\n",
    "    sh_idx = np.arange(my_array.shape[1])\n",
    "    np.random.shuffle(sh_idx)\n",
    "    return my_array[:, sh_idx]\n",
    "\n"
   ]
  },
  {
   "cell_type": "code",
   "execution_count": 12,
   "metadata": {
    "collapsed": false
   },
   "outputs": [
    {
     "name": "stdout",
     "output_type": "stream",
     "text": [
      "Expression shuffle test\n",
      "\tAUC value is: 0.999195354178\n",
      "\tAverage deviation is: 0.111190000088\n",
      "\n",
      "\tAUC value is: 0.999208408749\n",
      "\tAverage deviation is: 0.111139111161\n",
      "\n",
      "\tAUC value is: 0.999206709903\n",
      "\tAverage deviation is: 0.111051958007\n",
      "\n",
      "\tAUC value is: 0.99922023423\n",
      "\tAverage deviation is: 0.11105588826\n",
      "\n",
      "\tAUC value is: 0.999176437265\n",
      "\tAverage deviation is: 0.111037655048\n",
      "\n",
      "\tAUC value is: 0.999189248109\n",
      "\tAverage deviation is: 0.1111605748\n",
      "\n",
      "\tAUC value is: 0.99917680213\n",
      "\tAverage deviation is: 0.111167208098\n",
      "\n",
      "\tAUC value is: 0.999211880655\n",
      "\tAverage deviation is: 0.111169957547\n",
      "\n",
      "\tAUC value is: 0.999207092767\n",
      "\tAverage deviation is: 0.111161600804\n",
      "\n",
      "\tAUC value is: 0.999188094817\n",
      "\tAverage deviation is: 0.11115207385\n",
      "\n"
     ]
    }
   ],
   "source": [
    "print('Expression shuffle test') \n",
    "\n",
    "for i in range(10):\n",
    "    shuffled_expressions = shuffle_rows(rna_expression)  \n",
    "    relations = [fusion.Relation(prot_rna, prot, genes, name='catrapid'),\n",
    "                 fusion.Relation(shuffled_expressions, genes, expr)]\n",
    "\n",
    "    relations.append(fusion.Relation(rna_expression, genes, expr))\n",
    "    cross_validate(relations, cv_fold=10, th=auc_th)\n",
    "    print()"
   ]
  },
  {
   "cell_type": "code",
   "execution_count": 13,
   "metadata": {
    "collapsed": false
   },
   "outputs": [
    {
     "name": "stdout",
     "output_type": "stream",
     "text": [
      "Secretion shuffle test\n",
      "\tAUC value is: 0.99913207201\n",
      "\tAverage deviation is: 0.111426878168\n",
      "\n",
      "\tAUC value is: 0.999151006445\n",
      "\tAverage deviation is: 0.111343029459\n",
      "\n",
      "\tAUC value is: 0.999176741448\n",
      "\tAverage deviation is: 0.111311577242\n",
      "\n",
      "\tAUC value is: 0.999143856786\n",
      "\tAverage deviation is: 0.111346510493\n",
      "\n",
      "\tAUC value is: 0.999131853299\n",
      "\tAverage deviation is: 0.111398761867\n",
      "\n",
      "\tAUC value is: 0.99916148794\n",
      "\tAverage deviation is: 0.111469121235\n",
      "\n",
      "\tAUC value is: 0.999120393672\n",
      "\tAverage deviation is: 0.111496385736\n",
      "\n",
      "\tAUC value is: 0.999138375587\n",
      "\tAverage deviation is: 0.111418401334\n",
      "\n",
      "\tAUC value is: 0.999149343174\n",
      "\tAverage deviation is: 0.111411891082\n",
      "\n",
      "\tAUC value is: 0.999163575871\n",
      "\tAverage deviation is: 0.111355724249\n",
      "\n"
     ]
    }
   ],
   "source": [
    "print('Secretion shuffle test') \n",
    "\n",
    "for i in range(10):\n",
    "    shuffled_secretions = shuffle_cols(secretion_prot)  \n",
    "    relations = [fusion.Relation(prot_rna, prot, genes, name='catrapid'),\n",
    "                 fusion.Relation(secretion_prot, secretion, prot)]\n",
    "\n",
    "    cross_validate(relations, cv_fold=10, th=auc_th)\n",
    "    print()"
   ]
  },
  {
   "cell_type": "markdown",
   "metadata": {},
   "source": [
    "<h2>Inicialization Test</h2>"
   ]
  },
  {
   "cell_type": "code",
   "execution_count": null,
   "metadata": {
    "collapsed": false
   },
   "outputs": [
    {
     "name": "stdout",
     "output_type": "stream",
     "text": [
      "\tAUC value is: 0.993246549902\n",
      "\tAverage deviation is: 0.11124499709\n",
      "\tAUC value is: 0.993237802387\n",
      "\tAverage deviation is: 0.111152769404\n",
      "\tAUC value is: 0.993245079547\n",
      "\tAverage deviation is: 0.111196877663\n",
      "\tAUC value is:"
     ]
    }
   ],
   "source": [
    "relations = [fusion.Relation(prot_rna, prot, genes, name='catrapid')]\n",
    "\n",
    "\n",
    "for i in range(50):\n",
    "    cross_validate(relations, cv_fold=10, th=0, random_state=i)\n"
   ]
  }
 ],
 "metadata": {
  "kernelspec": {
   "display_name": "Python 3",
   "language": "python",
   "name": "python3"
  },
  "language_info": {
   "codemirror_mode": {
    "name": "ipython",
    "version": 3
   },
   "file_extension": ".py",
   "mimetype": "text/x-python",
   "name": "python",
   "nbconvert_exporter": "python",
   "pygments_lexer": "ipython3",
   "version": "3.4.1"
  }
 },
 "nbformat": 4,
 "nbformat_minor": 0
}
