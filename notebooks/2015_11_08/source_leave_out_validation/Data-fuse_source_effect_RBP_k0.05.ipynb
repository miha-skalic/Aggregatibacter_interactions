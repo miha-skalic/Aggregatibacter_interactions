{
 "cells": [
  {
   "cell_type": "markdown",
   "metadata": {},
   "source": [
    "<br>\n",
    "<font color=\"#500000\" size=15 style=\"margin:2cm\"> AGGREGATIBACTER FUSE</font>\n",
    "\n"
   ]
  },
  {
   "cell_type": "markdown",
   "metadata": {},
   "source": [
    "# INFORMATIVNOST VIROV ZA  REKONSTRUKCIJO RBP/DBP"
   ]
  },
  {
   "cell_type": "code",
   "execution_count": 1,
   "metadata": {
    "collapsed": false
   },
   "outputs": [],
   "source": [
    "# importing modules\n",
    "import matplotlib.pyplot as plt\n",
    "import numpy as np\n",
    "from sklearn import metrics\n",
    "from skfusion import fusion\n",
    "from cross_validation import *\n",
    "import pickle\n",
    "from math import ceil\n",
    "import time\n",
    "from joblib import Parallel, delayed\n",
    "from copy import deepcopy\n",
    "\n",
    "from scipy.stats import ranksums\n",
    "%matplotlib inline\n",
    "plt.rcParams['figure.figsize'] = (15.0, 8.0)\n",
    "plt.style.use('ggplot')"
   ]
  },
  {
   "cell_type": "markdown",
   "metadata": {},
   "source": [
    "# Matrices Import"
   ]
  },
  {
   "cell_type": "code",
   "execution_count": 2,
   "metadata": {
    "collapsed": false
   },
   "outputs": [],
   "source": [
    "prot_rna = pickle.load(open('../matrices/pickles/cr_z-score_raw.pkl', 'rb'))\n",
    "secretion_prot = pickle.load(open('../matrices/pickles/signalP.pkl', 'rb'))\n",
    "rna_expression = pickle.load(open('../matrices/pickles/MA_exp.pkl', 'rb'))\n",
    "s4te_prot = np.load(open('../matrices/pickles/S4TE.npy', 'rb'))\n",
    "OG_prot = np.load(open('../matrices/pickles/OG_prot.npy', 'rb')) # this is orthology function\n",
    "rna_GO = np.load(open('../matrices/pickles/HSgene_GO.npy', 'rb'))\n",
    "\n",
    "gproOG_prot = np.load(open('../matrices/pickles/aaprot_gprobOG.npy', 'rb'))\n",
    "hsgene_gproOG = np.load(open('../matrices/pickles/hsprot_gprobOG_short.npy', 'rb'))\n",
    "aaexp_prot = np.load(open('../matrices/pickles/aa_fc_expressions.npy', 'rb'))\n",
    "rbp_prot = np.load(open('../matrices/pickles/RBPdomains.npy', 'rb'))\n",
    "secretionexp_prot = np.load(open('../matrices/pickles/Secretedprot_exp.npy', 'rb'))"
   ]
  },
  {
   "cell_type": "markdown",
   "metadata": {},
   "source": [
    "# Data transformation"
   ]
  },
  {
   "cell_type": "code",
   "execution_count": 3,
   "metadata": {
    "collapsed": false
   },
   "outputs": [
    {
     "name": "stdout",
     "output_type": "stream",
     "text": [
      "secretion_prot: (5, 2001)\n",
      "rna_expression: (7097, 5)\n",
      "prot_rna: (2001, 7097)\n",
      "s4te_prot: (13, 2001)\n",
      "OG_prot: (22, 2001)\n",
      "gproOG_prot (825, 2001)\n",
      "hsgene_gproOG (7097, 825)\n",
      "aaexp_prot (5, 2001)\n",
      "rna_GO (7097, 285)\n",
      "rbp_prot (5, 2001)\n",
      "secretionexp_prot (5, 2001)\n"
     ]
    }
   ],
   "source": [
    "# remove data for genes with no catrapid prediction and shape correctly everthing\n",
    "\n",
    "secretionexp_prot = secretionexp_prot.reshape(1, secretionexp_prot.size, )\n",
    "rbp_prot = rbp_prot.T\n",
    "selection = prot_rna.any(axis=1)\n",
    "prot_rna = prot_rna[selection,:]\n",
    "secretion_prot = secretion_prot[:, selection]\n",
    "s4te_prot = s4te_prot[:, selection]\n",
    "OG_prot = OG_prot[:, selection]\n",
    "gproOG_prot = gproOG_prot.T[:, selection]\n",
    "\n",
    "# Addd pseudo rows \n",
    "secretion_prot = np.vstack((secretion_prot, secretion_prot, secretion_prot, secretion_prot, secretion_prot))\n",
    "secretionexp_prot = np.vstack((secretionexp_prot, secretionexp_prot, secretionexp_prot, secretionexp_prot, secretionexp_prot))\n",
    "\n",
    "rbp_prot = np.vstack((rbp_prot, rbp_prot, rbp_prot, rbp_prot, rbp_prot))\n",
    "\n",
    "rna_expression = rna_expression.reshape(rna_expression.shape[0],1)\n",
    "rna_expression = np.hstack((rna_expression, rna_expression, rna_expression, rna_expression, rna_expression))\n",
    "\n",
    "aaexp_prot = np.reshape(aaexp_prot, (1, aaexp_prot.size))\n",
    "aaexp_prot = np.vstack((aaexp_prot, aaexp_prot, aaexp_prot, aaexp_prot, aaexp_prot))[:, selection]\n",
    "\n",
    "# Add sum to S4te Results\n",
    "s4te_prot[1,:] = s4te_prot[1,:] * 3\n",
    "s4te_sum = s4te_prot.sum(axis=0) / s4te_prot.sum(axis=0).max()\n",
    "s4te_prot = np.vstack((s4te_prot,s4te_sum))\n",
    "\n",
    "\n",
    "# Display shapes\n",
    "print('secretion_prot:', secretion_prot.shape)\n",
    "print('rna_expression:', rna_expression.shape)\n",
    "print('prot_rna:', prot_rna.shape)\n",
    "print('s4te_prot:', s4te_prot.shape)\n",
    "print('OG_prot:', OG_prot.shape)\n",
    "print('gproOG_prot', gproOG_prot.shape)\n",
    "print('hsgene_gproOG', hsgene_gproOG.shape)\n",
    "print('aaexp_prot', aaexp_prot.shape)\n",
    "print('rna_GO', rna_GO.shape)\n",
    "print('rbp_prot', rbp_prot.shape)\n",
    "print('secretionexp_prot', secretionexp_prot.shape)"
   ]
  },
  {
   "cell_type": "markdown",
   "metadata": {},
   "source": [
    "# Data fusion setup"
   ]
  },
  {
   "cell_type": "code",
   "execution_count": 4,
   "metadata": {
    "collapsed": false,
    "scrolled": true
   },
   "outputs": [],
   "source": [
    "# SETUP of variables!\n",
    "k_perc = 0.025\n",
    "auc_th = 1\n",
    "\n",
    "# log file\n",
    "log_file = open('./logs/temp_CR_reconstruct_full_auc{}_kperc{}.txt'.format(auc_th, k_perc), 'a')\n",
    "\n",
    "\n",
    "print(('#############'\n",
    "      'New analysis'\n",
    "      '#############'\n",
    "      '\\nran on: {}' \n",
    "      '\\n######################################'\n",
    "      '\\nAUC_th = {}'\n",
    "      '\\nK_perc = {}'\n",
    "      '\\n######################################').format(time.strftime(\"%d.%m.%Y %H:%M:%S\"),auc_th, k_perc), file=log_file)"
   ]
  },
  {
   "cell_type": "code",
   "execution_count": 5,
   "metadata": {
    "collapsed": false
   },
   "outputs": [
    {
     "name": "stdout",
     "output_type": "stream",
     "text": [
      "SignalP 2\n",
      "AAprot 51\n",
      "HSgenes 178\n",
      "GOterms 8\n",
      "HSexpression 2\n",
      "Type4eff 2\n",
      "orthologs_group_functions 2\n",
      "orthologs_groups 21\n",
      "AAexpression 2\n",
      "SecritionMS 2\n",
      "RBPs 2\n"
     ]
    }
   ],
   "source": [
    "k_select = lambda x: max((ceil(x * k_perc), 2))\n",
    "\n",
    "# Define names\n",
    "secretion = fusion.ObjectType('SignalP', k_select(secretion_prot.shape[0]))\n",
    "prot = fusion.ObjectType('AAprot', k_select(prot_rna.shape[0]))\n",
    "genes = fusion.ObjectType('HSgenes', k_select(prot_rna.shape[1]))\n",
    "GO = fusion.ObjectType('GOterms', k_select(rna_GO.shape[1]))\n",
    "\n",
    "secretion_exp = fusion.ObjectType('SecritionMS', k_select(secretionexp_prot.shape[0]))\n",
    "rbp = fusion.ObjectType('RBPs', k_select(rbp_prot.shape[0]))\n",
    "\n",
    "# TODO: lower when possible\n",
    "expr = fusion.ObjectType('HSexpression', k_select(rna_expression.shape[1]))\n",
    "t4e = fusion.ObjectType('Type4eff', k_select(s4te_prot.shape[0]))\n",
    "OGfg = fusion.ObjectType('orthologs_group_functions', k_select(OG_prot.shape[0]))\n",
    "gproOG = fusion.ObjectType('orthologs_groups', k_select(gproOG_prot.shape[0]))\n",
    "aaexp = fusion.ObjectType('AAexpression', k_select(aaexp_prot.shape[0]))\n",
    "\n",
    "# Define relations\n",
    "relations = [fusion.Relation(prot_rna, prot, genes, name='catrapid'),\n",
    "             fusion.Relation(rna_expression, genes, expr, name='HS_foldchange'),\n",
    "             fusion.Relation(secretion_prot, secretion, prot, name='signalP'),\n",
    "             fusion.Relation(secretionexp_prot, secretion_exp, prot, name='SecretionMS'),\n",
    "             fusion.Relation(rbp_prot, rbp, prot, name='RBP_domains'),\n",
    "             fusion.Relation(s4te_prot, t4e, prot, name='T4E'),\n",
    "             fusion.Relation(aaexp_prot, aaexp, prot, name='AA_foldchange'),\n",
    "             fusion.Relation(OG_prot, OGfg, prot, name='OG_Function'),\n",
    "             fusion.Relation(rna_GO, genes, GO, name='GO_groups'),\n",
    "             fusion.Relation(gproOG_prot, gproOG, prot, name='OG_proteins'),\n",
    "             fusion.Relation(hsgene_gproOG, genes, gproOG, name='OG_rna')]\n",
    "\n",
    "\n",
    "all_object = [secretion, prot, genes, GO, expr, t4e, OGfg, gproOG, aaexp, secretion_exp, rbp]\n",
    "for objx in all_object:\n",
    "    print(objx, objx.rank)\n"
   ]
  },
  {
   "cell_type": "markdown",
   "metadata": {},
   "source": [
    "# Validation Functions"
   ]
  },
  {
   "cell_type": "code",
   "execution_count": 6,
   "metadata": {
    "collapsed": false
   },
   "outputs": [],
   "source": [
    "def dfmc(seed, relations):\n",
    "    return fusion.Dfmc(random_state=seed).fuse(fusion.FusionGraph(relations))\n",
    "\n",
    "\n",
    "# RBP domains\n",
    "def paralel_rbp_CV(relations, cv_matrix, elements, sp_idx, true_vals1, true_vals2):\n",
    "    xrel = deepcopy(relations)\n",
    "    xrel[sp_idx].data = cv_matrix\n",
    "    xfuser = dfmc(1, xrel)\n",
    "    pred_vals = xfuser.complete(xfuser.fusion_graph['RBP_domains'])[0, elements].flatten()\n",
    "\n",
    "    true_vals1 = true_vals1[elements]\n",
    "    true_vals2 = true_vals2[elements]\n",
    "    fpr1, tpr1, thresholds = metrics.roc_curve(true_vals1, pred_vals)\n",
    "    fpr2, tpr2, thresholds = metrics.roc_curve(true_vals2, pred_vals)\n",
    "    return metrics.auc(fpr1, tpr1), metrics.auc(fpr2, tpr2)\n",
    "\n",
    "\n",
    "def CV_rbp_auc(relations, cv_fold=10, th=2.5, random_state=1, alternative=0):\n",
    "    sp_idx = relations.index(fusion.Relation(rbp_prot, rbp, prot, name='RBP_domains'))\n",
    "    orig_matrix = relations[sp_idx].data\n",
    "    true_vals1 = (orig_matrix[0, :] == 1).flatten() * 1\n",
    "    true_vals2 = (orig_matrix[0, :] >= 0.5).flatten() * 1\n",
    "    return Parallel(n_jobs=cv_fold)(delayed(paralel_rbp_CV)(relations, cv_matrix.T, elements, sp_idx, true_vals1, true_vals2) for cv_matrix, elements in matrix_cv_setup(orig_matrix.T, alternative=alternative, by_row=True, n_fold=cv_fold))\n"
   ]
  },
  {
   "cell_type": "code",
   "execution_count": 7,
   "metadata": {
    "collapsed": true
   },
   "outputs": [],
   "source": [
    "def plot_results(plt_vals, ylab =''):\n",
    "    fig = plt.figure()\n",
    "    ax = fig.add_subplot(111)\n",
    "    ax.set_ylabel(ylab)\n",
    "    flierprops = dict(marker='o', markerfacecolor='blue', linestyle='none');\n",
    "    boxprops= dict( color='blue', linewidth=2)\n",
    "    capprops = dict(color='blue', linewidth=2)\n",
    "    medianprops = dict(color='blue', linewidth=2)\n",
    "    my_bp = plt.boxplot(plt_vals, flierprops=flierprops, boxprops=boxprops, capprops=capprops, patch_artist=True);\n",
    "\n",
    "    ax.set_xticklabels(['Odstranjen vir:\\n\"{}\"'.format(dsrc) for dsrc in rsources]);\n",
    "\n",
    "    for box in my_bp['boxes']:\n",
    "         box.set( facecolor= 'green', alpha = 0.5 )"
   ]
  },
  {
   "cell_type": "markdown",
   "metadata": {},
   "source": [
    "# Predictions and Validations"
   ]
  },
  {
   "cell_type": "markdown",
   "metadata": {},
   "source": [
    "### RBP domains\n",
    "\n",
    "We are predicting AUC"
   ]
  },
  {
   "cell_type": "code",
   "execution_count": 8,
   "metadata": {
    "collapsed": false,
    "scrolled": false
   },
   "outputs": [
    {
     "name": "stdout",
     "output_type": "stream",
     "text": [
      "Source remove order: ['catrapid', 'HS_foldchange', 'signalP', 'SecretionMS', 'T4E', 'AA_foldchange', 'OG_Function', 'GO_groups', 'OG_proteins', 'OG_rna']\n",
      "All RBP reconstructions: [(0.34002590673575134, 0.42306368330464716), (0.75323834196891193, 0.80602409638554229), (0.7370466321243524, 0.82082616179001722), (0.73510362694300524, 0.77022375215146299), (0.77784974093264247, 0.76282271944922542), (0.65220207253885998, 0.79845094664371774), (0.49158031088082904, 0.72220309810671268), (0.75582901554404147, 0.80636833046471601), (0.77979274611398963, 0.80361445783132535), (0.74158031088082899, 0.79173838209982783)]\n",
      "\n",
      "All DBP reconstructions: [(0.46421052631578952, 0.39883417702101553), (0.80315789473684207, 0.72096947384568177), (0.78684210526315801, 0.74290535358183751), (0.69631578947368422, 0.69964718515109681), (0.36315789473684212, 0.44377972081607608), (0.67315789473684196, 0.67985887406043866), (0.40894736842105267, 0.57861635220125784), (0.79894736842105263, 0.71759472311704242), (0.66052631578947363, 0.67203558828041099), (0.75263157894736843, 0.7272587820217824)]\n"
     ]
    },
    {
     "name": "stderr",
     "output_type": "stream",
     "text": [
      "/disk2/programs/anaconda/lib/python3.4/site-packages/matplotlib/patches.py:102: UserWarning: Setting the 'color' property will overridethe edgecolor or facecolor properties. \n",
      "  warnings.warn(\"Setting the 'color' property will override\"\n"
     ]
    },
    {
     "data": {
      "image/png": "[encoded data removed]",
      "text/plain": [
       "<matplotlib.figure.Figure at 0x2b08717ebba8>"
      ]
     },
     "metadata": {},
     "output_type": "display_data"
    },
    {
     "data": {
      "image/png": "[encoded data removed]",
      "text/plain": [
       "<matplotlib.figure.Figure at 0x2b08717ebc50>"
      ]
     },
     "metadata": {},
     "output_type": "display_data"
    }
   ],
   "source": [
    "rbp_pred = []\n",
    "dbp_pred = []\n",
    "rsources = []\n",
    "k_perc = 0.05\n",
    "\n",
    "k_select = lambda x: max((ceil(x * k_perc), 2))\n",
    "\n",
    "secretion = fusion.ObjectType('SignalP', k_select(secretion_prot.shape[0]))\n",
    "prot = fusion.ObjectType('AAprot', k_select(prot_rna.shape[0]))\n",
    "genes = fusion.ObjectType('HSgenes', k_select(prot_rna.shape[1]))\n",
    "GO = fusion.ObjectType('GOterms', k_select(rna_GO.shape[1]))\n",
    "secretion_exp = fusion.ObjectType('SecritionMS', k_select(secretionexp_prot.shape[0]))\n",
    "rbp = fusion.ObjectType('RBPs', k_select(rbp_prot.shape[0]))\n",
    "expr = fusion.ObjectType('HSexpression', k_select(rna_expression.shape[1]))\n",
    "t4e = fusion.ObjectType('Type4eff', k_select(s4te_prot.shape[0]))\n",
    "OGfg = fusion.ObjectType('orthologs_group_functions', k_select(OG_prot.shape[0]))\n",
    "gproOG = fusion.ObjectType('orthologs_groups', k_select(gproOG_prot.shape[0]))\n",
    "aaexp = fusion.ObjectType('AAexpression', k_select(aaexp_prot.shape[0]))\n",
    "\n",
    "# actual relations\n",
    "relations = [fusion.Relation(rbp_prot, rbp, prot, name='RBP_domains'),\n",
    "         fusion.Relation(prot_rna, prot, genes, name='catrapid'),\n",
    "         fusion.Relation(rna_expression, genes, expr, name='HS_foldchange'),\n",
    "         fusion.Relation(secretion_prot, secretion, prot, name='signalP'),\n",
    "         fusion.Relation(secretionexp_prot, secretion_exp, prot, name='SecretionMS'),\n",
    "         fusion.Relation(s4te_prot, t4e, prot, name='T4E'),\n",
    "         fusion.Relation(aaexp_prot, aaexp, prot, name='AA_foldchange'),\n",
    "         fusion.Relation(OG_prot, OGfg, prot, name='OG_Function'),\n",
    "         fusion.Relation(rna_GO, genes, GO, name='GO_groups'),\n",
    "         fusion.Relation(gproOG_prot, gproOG, prot, name='OG_proteins'),\n",
    "         fusion.Relation(hsgene_gproOG, genes, gproOG, name='OG_rna')]\n",
    "\n",
    "for i in range(len(relations)-1):\n",
    "    relat = relations.pop(1)\n",
    "    \n",
    "    x = CV_rbp_auc(relations, cv_fold=10, th=auc_th, alternative='mask')\n",
    "    rbp_pred.append(x[0])\n",
    "    dbp_pred.append(x[1])\n",
    "    \n",
    "    rsources.append(relat.name)\n",
    "    relations.append(relat)\n",
    "\n",
    "\n",
    "plot_results(rbp_pred)\n",
    "plot_results(dbp_pred)\n",
    "print('Source remove order:', rsources)\n",
    "print('All RBP reconstructions:', rbp_pred)\n",
    "print()\n",
    "print('All DBP reconstructions:', dbp_pred)"
   ]
  },
  {
   "cell_type": "markdown",
   "metadata": {},
   "source": [
    "Zgornji graf: Napod za RBP <br/>\n",
    "Spodnji graf: Napoved za RBP + DBP\n",
    "\n",
    "prikazane so AUC vrednosti. ob odstranitvi posameznih virov"
   ]
  }
 ],
 "metadata": {
  "kernelspec": {
   "display_name": "Python 3",
   "language": "python",
   "name": "python3"
  },
  "language_info": {
   "codemirror_mode": {
    "name": "ipython",
    "version": 3
   },
   "file_extension": ".py",
   "mimetype": "text/x-python",
   "name": "python",
   "nbconvert_exporter": "python",
   "pygments_lexer": "ipython3",
   "version": "3.4.3"
  }
 },
 "nbformat": 4,
 "nbformat_minor": 0
}
