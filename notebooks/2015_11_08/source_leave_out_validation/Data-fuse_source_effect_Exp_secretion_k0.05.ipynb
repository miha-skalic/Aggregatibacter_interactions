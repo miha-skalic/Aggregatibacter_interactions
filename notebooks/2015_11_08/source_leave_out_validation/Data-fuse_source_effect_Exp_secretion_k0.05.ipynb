{
 "metadata": {
  "kernelspec": {
   "display_name": "Python 3",
   "language": "python",
   "name": "python3"
  },
  "language_info": {
   "codemirror_mode": {
    "name": "ipython",
    "version": 3
   },
   "file_extension": ".py",
   "mimetype": "text/x-python",
   "name": "python",
   "nbconvert_exporter": "python",
   "pygments_lexer": "ipython3",
   "version": "3.4.3"
  },
  "name": ""
 },
 "nbformat": 3,
 "nbformat_minor": 0,
 "worksheets": [
  {
   "cells": [
    {
     "cell_type": "markdown",
     "metadata": {},
     "source": [
      "<br>\n",
      "<font color=\"#500000\" size=15 style=\"margin:2cm\"> AGGREGATIBACTER FUSE</font>\n",
      "\n"
     ]
    },
    {
     "cell_type": "heading",
     "level": 1,
     "metadata": {},
     "source": [
      "INFORMATIVNOST VIROV ZA  REKONSTRUKCIJO Izlo\u010danja proteinov (eksperimentalno)"
     ]
    },
    {
     "cell_type": "code",
     "collapsed": false,
     "input": [
      "# importing modules\n",
      "import matplotlib.pyplot as plt\n",
      "import numpy as np\n",
      "from sklearn import metrics\n",
      "from skfusion import fusion\n",
      "from cross_validation import *\n",
      "import pickle\n",
      "from math import ceil\n",
      "import time\n",
      "from joblib import Parallel, delayed\n",
      "from copy import deepcopy\n",
      "\n",
      "from scipy.stats import ranksums\n",
      "%matplotlib inline\n",
      "plt.rcParams['figure.figsize'] = (15.0, 8.0)\n",
      "plt.style.use('ggplot')"
     ],
     "language": "python",
     "metadata": {},
     "outputs": [],
     "prompt_number": 1
    },
    {
     "cell_type": "heading",
     "level": 1,
     "metadata": {},
     "source": [
      "Matrices Import"
     ]
    },
    {
     "cell_type": "code",
     "collapsed": false,
     "input": [
      "prot_rna = pickle.load(open('../matrices/pickles/cr_z-score_raw.pkl', 'rb'))\n",
      "secretion_prot = pickle.load(open('../matrices/pickles/signalP.pkl', 'rb'))\n",
      "rna_expression = pickle.load(open('../matrices/pickles/MA_exp.pkl', 'rb'))\n",
      "s4te_prot = np.load(open('../matrices/pickles/S4TE.npy', 'rb'))\n",
      "OG_prot = np.load(open('../matrices/pickles/OG_prot.npy', 'rb')) # this is orthology function\n",
      "rna_GO = np.load(open('../matrices/pickles/HSgene_GO.npy', 'rb'))\n",
      "\n",
      "gproOG_prot = np.load(open('../matrices/pickles/aaprot_gprobOG.npy', 'rb'))\n",
      "hsgene_gproOG = np.load(open('../matrices/pickles/hsprot_gprobOG_short.npy', 'rb'))\n",
      "aaexp_prot = np.load(open('../matrices/pickles/aa_fc_expressions.npy', 'rb'))\n",
      "rbp_prot = np.load(open('../matrices/pickles/RBPdomains.npy', 'rb'))\n",
      "secretionexp_prot = np.load(open('../matrices/pickles/Secretedprot_exp.npy', 'rb'))"
     ],
     "language": "python",
     "metadata": {},
     "outputs": [],
     "prompt_number": 2
    },
    {
     "cell_type": "heading",
     "level": 1,
     "metadata": {},
     "source": [
      "Data transformation"
     ]
    },
    {
     "cell_type": "code",
     "collapsed": false,
     "input": [
      "# remove data for genes with no catrapid prediction and shape correctly everthing\n",
      "\n",
      "secretionexp_prot = secretionexp_prot.reshape(1, secretionexp_prot.size, )\n",
      "rbp_prot = rbp_prot.T\n",
      "selection = prot_rna.any(axis=1)\n",
      "prot_rna = prot_rna[selection,:]\n",
      "secretion_prot = secretion_prot[:, selection]\n",
      "s4te_prot = s4te_prot[:, selection]\n",
      "OG_prot = OG_prot[:, selection]\n",
      "gproOG_prot = gproOG_prot.T[:, selection]\n",
      "\n",
      "# Addd pseudo rows \n",
      "secretion_prot = np.vstack((secretion_prot, secretion_prot, secretion_prot, secretion_prot, secretion_prot))\n",
      "secretionexp_prot = np.vstack((secretionexp_prot, secretionexp_prot, secretionexp_prot, secretionexp_prot, secretionexp_prot))\n",
      "\n",
      "rbp_prot = np.vstack((rbp_prot, rbp_prot, rbp_prot, rbp_prot, rbp_prot))\n",
      "\n",
      "rna_expression = rna_expression.reshape(rna_expression.shape[0],1)\n",
      "rna_expression = np.hstack((rna_expression, rna_expression, rna_expression, rna_expression, rna_expression))\n",
      "\n",
      "aaexp_prot = np.reshape(aaexp_prot, (1, aaexp_prot.size))\n",
      "aaexp_prot = np.vstack((aaexp_prot, aaexp_prot, aaexp_prot, aaexp_prot, aaexp_prot))[:, selection]\n",
      "\n",
      "# Add sum to S4te Results\n",
      "s4te_prot[1,:] = s4te_prot[1,:] * 3\n",
      "s4te_sum = s4te_prot.sum(axis=0) / s4te_prot.sum(axis=0).max()\n",
      "s4te_prot = np.vstack((s4te_prot,s4te_sum))\n",
      "\n",
      "\n",
      "# Display shapes\n",
      "print('secretion_prot:', secretion_prot.shape)\n",
      "print('rna_expression:', rna_expression.shape)\n",
      "print('prot_rna:', prot_rna.shape)\n",
      "print('s4te_prot:', s4te_prot.shape)\n",
      "print('OG_prot:', OG_prot.shape)\n",
      "print('gproOG_prot', gproOG_prot.shape)\n",
      "print('hsgene_gproOG', hsgene_gproOG.shape)\n",
      "print('aaexp_prot', aaexp_prot.shape)\n",
      "print('rna_GO', rna_GO.shape)\n",
      "print('rbp_prot', rbp_prot.shape)\n",
      "print('secretionexp_prot', secretionexp_prot.shape)"
     ],
     "language": "python",
     "metadata": {},
     "outputs": [
      {
       "output_type": "stream",
       "stream": "stdout",
       "text": [
        "secretion_prot: (5, 2001)\n",
        "rna_expression: (7097, 5)\n",
        "prot_rna: (2001, 7097)\n",
        "s4te_prot: (13, 2001)\n",
        "OG_prot: (22, 2001)\n",
        "gproOG_prot (825, 2001)\n",
        "hsgene_gproOG (7097, 825)\n",
        "aaexp_prot (5, 2001)\n",
        "rna_GO (7097, 285)\n",
        "rbp_prot (5, 2001)\n",
        "secretionexp_prot (5, 2001)\n"
       ]
      }
     ],
     "prompt_number": 3
    },
    {
     "cell_type": "heading",
     "level": 1,
     "metadata": {},
     "source": [
      "Data fusion setup"
     ]
    },
    {
     "cell_type": "code",
     "collapsed": false,
     "input": [
      "# SETUP of variables!\n",
      "k_perc = 0.025\n",
      "auc_th = 1\n",
      "\n",
      "# log file\n",
      "log_file = open('./logs/temp_CR_reconstruct_full_auc{}_kperc{}.txt'.format(auc_th, k_perc), 'a')\n",
      "\n",
      "\n",
      "print(('#############'\n",
      "      'New analysis'\n",
      "      '#############'\n",
      "      '\\nran on: {}' \n",
      "      '\\n######################################'\n",
      "      '\\nAUC_th = {}'\n",
      "      '\\nK_perc = {}'\n",
      "      '\\n######################################').format(time.strftime(\"%d.%m.%Y %H:%M:%S\"),auc_th, k_perc), file=log_file)"
     ],
     "language": "python",
     "metadata": {
      "scrolled": true
     },
     "outputs": [],
     "prompt_number": 4
    },
    {
     "cell_type": "code",
     "collapsed": false,
     "input": [
      "k_select = lambda x: max((ceil(x * k_perc), 2))\n",
      "\n",
      "# Define names\n",
      "secretion = fusion.ObjectType('SignalP', k_select(secretion_prot.shape[0]))\n",
      "prot = fusion.ObjectType('AAprot', k_select(prot_rna.shape[0]))\n",
      "genes = fusion.ObjectType('HSgenes', k_select(prot_rna.shape[1]))\n",
      "GO = fusion.ObjectType('GOterms', k_select(rna_GO.shape[1]))\n",
      "\n",
      "secretion_exp = fusion.ObjectType('SecritionMS', k_select(secretionexp_prot.shape[0]))\n",
      "rbp = fusion.ObjectType('RBPs', k_select(rbp_prot.shape[0]))\n",
      "\n",
      "# TODO: lower when possible\n",
      "expr = fusion.ObjectType('HSexpression', k_select(rna_expression.shape[1]))\n",
      "t4e = fusion.ObjectType('Type4eff', k_select(s4te_prot.shape[0]))\n",
      "OGfg = fusion.ObjectType('orthologs_group_functions', k_select(OG_prot.shape[0]))\n",
      "gproOG = fusion.ObjectType('orthologs_groups', k_select(gproOG_prot.shape[0]))\n",
      "aaexp = fusion.ObjectType('AAexpression', k_select(aaexp_prot.shape[0]))\n",
      "\n",
      "# Define relations\n",
      "relations = [fusion.Relation(prot_rna, prot, genes, name='catrapid'),\n",
      "             fusion.Relation(rna_expression, genes, expr, name='HS_foldchange'),\n",
      "             fusion.Relation(secretion_prot, secretion, prot, name='signalP'),\n",
      "             fusion.Relation(secretionexp_prot, secretion_exp, prot, name='SecretionMS'),\n",
      "             fusion.Relation(rbp_prot, rbp, prot, name='RBP_domains'),\n",
      "             fusion.Relation(s4te_prot, t4e, prot, name='T4E'),\n",
      "             fusion.Relation(aaexp_prot, aaexp, prot, name='AA_foldchange'),\n",
      "             fusion.Relation(OG_prot, OGfg, prot, name='OG_Function'),\n",
      "             fusion.Relation(rna_GO, genes, GO, name='GO_groups'),\n",
      "             fusion.Relation(gproOG_prot, gproOG, prot, name='OG_proteins'),\n",
      "             fusion.Relation(hsgene_gproOG, genes, gproOG, name='OG_rna')]\n",
      "\n",
      "\n",
      "all_object = [secretion, prot, genes, GO, expr, t4e, OGfg, gproOG, aaexp, secretion_exp, rbp]\n",
      "for objx in all_object:\n",
      "    print(objx, objx.rank)\n"
     ],
     "language": "python",
     "metadata": {},
     "outputs": [
      {
       "output_type": "stream",
       "stream": "stdout",
       "text": [
        "SignalP 2\n",
        "AAprot 51\n",
        "HSgenes 178\n",
        "GOterms 8\n",
        "HSexpression 2\n",
        "Type4eff 2\n",
        "orthologs_group_functions 2\n",
        "orthologs_groups 21\n",
        "AAexpression 2\n",
        "SecritionMS 2\n",
        "RBPs 2\n"
       ]
      }
     ],
     "prompt_number": 5
    },
    {
     "cell_type": "heading",
     "level": 1,
     "metadata": {},
     "source": [
      "Validation Functions"
     ]
    },
    {
     "cell_type": "code",
     "collapsed": false,
     "input": [
      "def dfmc(seed, relations):\n",
      "    return fusion.Dfmc(random_state=seed).fuse(fusion.FusionGraph(relations))\n",
      "\n",
      "\n",
      "# Experimetnal secretion\n",
      "def paralel_expsec_CV(relations, cv_matrix, elements, sp_idx, true_vals):\n",
      "    xrel = deepcopy(relations)\n",
      "    xrel[sp_idx].data = cv_matrix\n",
      "    xfuser = dfmc(1, xrel)\n",
      "    pred_vals = xfuser.complete(xfuser.fusion_graph['SecretionMS'])[0, elements].flatten()\n",
      "\n",
      "    true_vals = true_vals[elements]\n",
      "    fpr, tpr, thresholds = metrics.roc_curve(true_vals, pred_vals)\n",
      "    return metrics.auc(fpr, tpr)\n",
      "\n",
      "\n",
      "def CV_expsec_auc(relations, cv_fold=10, random_state=1, alternative=0):\n",
      "    sp_idx = relations.index(fusion.Relation(secretionexp_prot, secretion_exp, prot, name='SecretionMS'))\n",
      "    orig_matrix = relations[sp_idx].data\n",
      "    true_vals = (orig_matrix[0, :] == 1).flatten() * 1\n",
      "    return Parallel(n_jobs=cv_fold)(delayed(paralel_expsec_CV)(relations, cv_matrix.T, elements, sp_idx, true_vals) for cv_matrix, elements in matrix_cv_setup(orig_matrix.T, alternative=alternative, by_row=True, n_fold=cv_fold))\n"
     ],
     "language": "python",
     "metadata": {},
     "outputs": [],
     "prompt_number": 6
    },
    {
     "cell_type": "code",
     "collapsed": true,
     "input": [
      "def plot_results(plt_vals, ylab =''):\n",
      "    fig = plt.figure()\n",
      "    ax = fig.add_subplot(111)\n",
      "    ax.set_ylabel(ylab)\n",
      "    flierprops = dict(marker='o', markerfacecolor='blue', linestyle='none');\n",
      "    boxprops= dict( color='blue', linewidth=2)\n",
      "    capprops = dict(color='blue', linewidth=2)\n",
      "    medianprops = dict(color='blue', linewidth=2)\n",
      "    my_bp = plt.boxplot(plt_vals, flierprops=flierprops, boxprops=boxprops, capprops=capprops, patch_artist=True);\n",
      "\n",
      "    ax.set_xticklabels(['Odstranjen vir:\\n\"{}\"'.format(dsrc) for dsrc in rsources]);\n",
      "\n",
      "    for box in my_bp['boxes']:\n",
      "         box.set( facecolor= 'green', alpha = 0.5 )"
     ],
     "language": "python",
     "metadata": {},
     "outputs": [],
     "prompt_number": 7
    },
    {
     "cell_type": "heading",
     "level": 1,
     "metadata": {},
     "source": [
      "Predictions and Validations"
     ]
    },
    {
     "cell_type": "markdown",
     "metadata": {},
     "source": [
      "### RBP domains\n",
      "\n",
      "We are predicting AUC"
     ]
    },
    {
     "cell_type": "code",
     "collapsed": false,
     "input": [
      "sec_pred = []\n",
      "rsources = []\n",
      "k_perc = 0.05\n",
      "\n",
      "k_select = lambda x: max((ceil(x * k_perc), 2))\n",
      "\n",
      "secretion = fusion.ObjectType('SignalP', k_select(secretion_prot.shape[0]))\n",
      "prot = fusion.ObjectType('AAprot', k_select(prot_rna.shape[0]))\n",
      "genes = fusion.ObjectType('HSgenes', k_select(prot_rna.shape[1]))\n",
      "GO = fusion.ObjectType('GOterms', k_select(rna_GO.shape[1]))\n",
      "secretion_exp = fusion.ObjectType('SecritionMS', k_select(secretionexp_prot.shape[0]))\n",
      "rbp = fusion.ObjectType('RBPs', k_select(rbp_prot.shape[0]))\n",
      "expr = fusion.ObjectType('HSexpression', k_select(rna_expression.shape[1]))\n",
      "t4e = fusion.ObjectType('Type4eff', k_select(s4te_prot.shape[0]))\n",
      "OGfg = fusion.ObjectType('orthologs_group_functions', k_select(OG_prot.shape[0]))\n",
      "gproOG = fusion.ObjectType('orthologs_groups', k_select(gproOG_prot.shape[0]))\n",
      "aaexp = fusion.ObjectType('AAexpression', k_select(aaexp_prot.shape[0]))\n",
      "\n",
      "# actual relations\n",
      "relations = [fusion.Relation(secretionexp_prot, secretion_exp, prot, name='SecretionMS'),\n",
      "             fusion.Relation(prot_rna, prot, genes, name='catrapid'),\n",
      "             fusion.Relation(rna_expression, genes, expr, name='HS_foldchange'),\n",
      "             fusion.Relation(secretion_prot, secretion, prot, name='signalP'),\n",
      "             fusion.Relation(rbp_prot, rbp, prot, name='RBP_domains'),\n",
      "             fusion.Relation(s4te_prot, t4e, prot, name='T4E'),\n",
      "             fusion.Relation(aaexp_prot, aaexp, prot, name='AA_foldchange'),\n",
      "             fusion.Relation(OG_prot, OGfg, prot, name='OG_Function'),\n",
      "             fusion.Relation(rna_GO, genes, GO, name='GO_groups'),\n",
      "             fusion.Relation(gproOG_prot, gproOG, prot, name='OG_proteins'),\n",
      "             fusion.Relation(hsgene_gproOG, genes, gproOG, name='OG_rna')]\n",
      "\n",
      "for i in range(len(relations)-1):\n",
      "    relat = relations.pop(1)\n",
      "\n",
      "    x = CV_expsec_auc(relations, cv_fold=10, alternative='mask')\n",
      "    sec_pred.append(x)\n",
      "\n",
      "    rsources.append(relat.name)\n",
      "    relations.append(relat)\n",
      "\n",
      "\n",
      "plot_results(sec_pred)\n",
      "print('Source remove order:', rsources)\n",
      "print('All AUC values:', sec_pred)\n"
     ],
     "language": "python",
     "metadata": {
      "scrolled": false
     },
     "outputs": [
      {
       "output_type": "stream",
       "stream": "stdout",
       "text": [
        "Source remove order: ['catrapid', 'HS_foldchange', 'signalP', 'RBP_domains', 'T4E', 'AA_foldchange', 'OG_Function', 'GO_groups', 'OG_proteins', 'OG_rna']\n",
        "All AUC values: [[0.48117839607201307, 0.47552447552447552, 0.4524686809137804, 0.43631114130434784, 0.57693614130434778, 0.47330447330447339, 0.61513513513513518, 0.44227973248037222, 0.46234370456528057, 0.47406225059856344], [0.78109656301145669, 0.544220485396956, 0.69442397445345128, 0.61684782608695654, 0.61209239130434778, 0.70707070707070707, 0.77765765765765771, 0.66472811863913928, 0.58592614132015131, 0.56318169725990952], [0.76309328968903434, 0.46482928835870013, 0.57872758535986246, 0.46297554347826086, 0.62567934782608692, 0.60076960076960073, 0.72828828828828829, 0.64989822622855475, 0.59232334981099155, 0.44479914870976323], [0.70417348608837971, 0.59029206088029618, 0.6701056251535249, 0.61277173913043481, 0.66066576086956519, 0.69552669552669555, 0.67387387387387387, 0.56993312009305042, 0.65600465251526607, 0.52700186219739287], [0.81096563011456635, 0.56396544631838741, 0.63399656104151314, 0.56283967391304346, 0.61650815217391308, 0.63492063492063489, 0.75135135135135134, 0.60250072695551038, 0.59523117185228258, 0.50332535248736354], [0.74877250409165308, 0.71328671328671323, 0.74256939326946703, 0.75815217391304346, 0.61277173913043481, 0.70466570466570466, 0.77945945945945938, 0.64786275079965105, 0.81273626054085479, 0.6211758446395319], [0.86292962356792147, 0.66886055121349242, 0.70523212969786297, 0.53430706521739135, 0.65794836956521741, 0.62241462241462242, 0.6670270270270271, 0.6126781041000291, 0.47135795289328292, 0.527267890396382], [0.82855973813420625, 0.59029206088029618, 0.73077867845738154, 0.59680706521739135, 0.62805706521739135, 0.69071669071669062, 0.76432432432432429, 0.56935155568479212, 0.68188426868275664, 0.55839318967810581], [0.77373158756137483, 0.69930069930069938, 0.65684107098992872, 0.63247282608695654, 0.54891304347826086, 0.7166907166907166, 0.66486486486486496, 0.56469904041872643, 0.61645827275370757, 0.57515296621441869], [0.79991816693944351, 0.53352529823118067, 0.7022844509948416, 0.59069293478260865, 0.62567934782608692, 0.62962962962962954, 0.72648648648648639, 0.66385577202675194, 0.67548706019191629, 0.54136738494280401]]\n"
       ]
      },
      {
       "output_type": "stream",
       "stream": "stderr",
       "text": [
        "/disk2/programs/anaconda/lib/python3.4/site-packages/matplotlib/patches.py:102: UserWarning: Setting the 'color' property will overridethe edgecolor or facecolor properties. \n",
        "  warnings.warn(\"Setting the 'color' property will override\"\n"
       ]
      },
      {
       "output_type": "display_data",
       "png": "[encoded data removed]",
       "text": [
        "<matplotlib.figure.Figure at 0x2b2303ce4ba8>"
       ]
      }
     ],
     "prompt_number": 8
    },
    {
     "cell_type": "markdown",
     "metadata": {},
     "source": [
      "\n",
      "\n",
      "prikazane so AUC vrednosti. Ob odstranitvi posameznih virov,\n",
      "10x X validacija"
     ]
    }
   ],
   "metadata": {}
  }
 ]
}