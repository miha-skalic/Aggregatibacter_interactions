{
 "metadata": {
  "kernelspec": {
   "display_name": "Python 3",
   "language": "python",
   "name": "python3"
  },
  "language_info": {
   "codemirror_mode": {
    "name": "ipython",
    "version": 3
   },
   "file_extension": ".py",
   "mimetype": "text/x-python",
   "name": "python",
   "nbconvert_exporter": "python",
   "pygments_lexer": "ipython3",
   "version": "3.4.3"
  },
  "name": ""
 },
 "nbformat": 3,
 "nbformat_minor": 0,
 "worksheets": [
  {
   "cells": [
    {
     "cell_type": "markdown",
     "metadata": {},
     "source": [
      "<br>\n",
      "<font color=\"#500000\" size=15 style=\"margin:2cm\"> AGGREGATIBACTER FUSE</font>\n",
      "\n"
     ]
    },
    {
     "cell_type": "heading",
     "level": 1,
     "metadata": {},
     "source": [
      "THIS NOTEBOOK IS USED TO SELECT BEST K-VALUE"
     ]
    },
    {
     "cell_type": "code",
     "collapsed": false,
     "input": [
      "# importing modules\n",
      "import matplotlib.pyplot as plt\n",
      "import numpy as np\n",
      "from sklearn import metrics\n",
      "from skfusion import fusion\n",
      "from cross_validation import *\n",
      "import pickle\n",
      "from math import ceil\n",
      "import time\n",
      "from joblib import Parallel, delayed\n",
      "from copy import deepcopy\n",
      "\n",
      "from scipy.stats import ranksums\n",
      "%matplotlib inline\n",
      "plt.rcParams['figure.figsize'] = (15.0, 8.0)\n",
      "plt.style.use('ggplot')"
     ],
     "language": "python",
     "metadata": {},
     "outputs": [],
     "prompt_number": 1
    },
    {
     "cell_type": "heading",
     "level": 1,
     "metadata": {},
     "source": [
      "Matrices Import"
     ]
    },
    {
     "cell_type": "code",
     "collapsed": false,
     "input": [
      "prot_rna = pickle.load(open('../matrices/pickles/cr_z-score_raw.pkl', 'rb'))\n",
      "secretion_prot = pickle.load(open('../matrices/pickles/signalP.pkl', 'rb'))\n",
      "rna_expression = pickle.load(open('../matrices/pickles/MA_exp.pkl', 'rb'))\n",
      "s4te_prot = np.load(open('../matrices/pickles/S4TE.npy', 'rb'))\n",
      "OG_prot = np.load(open('../matrices/pickles/OG_prot.npy', 'rb')) # this is orthology function\n",
      "rna_GO = np.load(open('../matrices/pickles/HSgene_GO.npy', 'rb'))\n",
      "\n",
      "gproOG_prot = np.load(open('../matrices/pickles/aaprot_gprobOG.npy', 'rb'))\n",
      "hsgene_gproOG = np.load(open('../matrices/pickles/hsprot_gprobOG_short.npy', 'rb'))\n",
      "aaexp_prot = np.load(open('../matrices/pickles/aa_fc_expressions.npy', 'rb'))\n",
      "rbp_prot = np.load(open('../matrices/pickles/RBPdomains.npy', 'rb'))\n",
      "secretionexp_prot = np.load(open('../matrices/pickles/Secretedprot_exp.npy', 'rb'))"
     ],
     "language": "python",
     "metadata": {},
     "outputs": [],
     "prompt_number": 2
    },
    {
     "cell_type": "heading",
     "level": 1,
     "metadata": {},
     "source": [
      "Data transformation"
     ]
    },
    {
     "cell_type": "code",
     "collapsed": false,
     "input": [
      "# remove data for genes with no catrapid prediction and shape correctly everthing\n",
      "\n",
      "secretionexp_prot = secretionexp_prot.reshape(1, secretionexp_prot.size, )\n",
      "rbp_prot = rbp_prot.T\n",
      "selection = prot_rna.any(axis=1)\n",
      "prot_rna = prot_rna[selection,:]\n",
      "secretion_prot = secretion_prot[:, selection]\n",
      "s4te_prot = s4te_prot[:, selection]\n",
      "OG_prot = OG_prot[:, selection]\n",
      "gproOG_prot = gproOG_prot.T[:, selection]\n",
      "\n",
      "# Addd pseudo rows \n",
      "secretion_prot = np.vstack((secretion_prot, secretion_prot, secretion_prot, secretion_prot, secretion_prot))\n",
      "secretionexp_prot = np.vstack((secretionexp_prot, secretionexp_prot, secretionexp_prot, secretionexp_prot, secretionexp_prot))\n",
      "\n",
      "rbp_prot = np.vstack((rbp_prot, rbp_prot, rbp_prot, rbp_prot, rbp_prot))\n",
      "\n",
      "rna_expression = rna_expression.reshape(rna_expression.shape[0],1)\n",
      "rna_expression = np.hstack((rna_expression, rna_expression, rna_expression, rna_expression, rna_expression))\n",
      "\n",
      "aaexp_prot = np.reshape(aaexp_prot, (1, aaexp_prot.size))\n",
      "aaexp_prot = np.vstack((aaexp_prot, aaexp_prot, aaexp_prot, aaexp_prot, aaexp_prot))[:, selection]\n",
      "\n",
      "# Add sum to S4te Results\n",
      "s4te_prot[1,:] = s4te_prot[1,:] * 3\n",
      "s4te_sum = s4te_prot.sum(axis=0) / s4te_prot.sum(axis=0).max()\n",
      "s4te_prot = np.vstack((s4te_prot,s4te_sum))\n",
      "\n",
      "\n",
      "# Display shapes\n",
      "print('secretion_prot:', secretion_prot.shape)\n",
      "print('rna_expression:', rna_expression.shape)\n",
      "print('prot_rna:', prot_rna.shape)\n",
      "print('s4te_prot:', s4te_prot.shape)\n",
      "print('OG_prot:', OG_prot.shape)\n",
      "print('gproOG_prot', gproOG_prot.shape)\n",
      "print('hsgene_gproOG', hsgene_gproOG.shape)\n",
      "print('aaexp_prot', aaexp_prot.shape)\n",
      "print('rna_GO', rna_GO.shape)\n",
      "print('rbp_prot', rbp_prot.shape)\n",
      "print('secretionexp_prot', secretionexp_prot.shape)"
     ],
     "language": "python",
     "metadata": {},
     "outputs": [
      {
       "output_type": "stream",
       "stream": "stdout",
       "text": [
        "secretion_prot: (5, 2001)\n",
        "rna_expression: (7097, 5)\n",
        "prot_rna: (2001, 7097)\n",
        "s4te_prot: (13, 2001)\n",
        "OG_prot: (22, 2001)\n",
        "gproOG_prot (825, 2001)\n",
        "hsgene_gproOG (7097, 825)\n",
        "aaexp_prot (5, 2001)\n",
        "rna_GO (7097, 285)\n",
        "rbp_prot (5, 2001)\n",
        "secretionexp_prot (5, 2001)\n"
       ]
      }
     ],
     "prompt_number": 3
    },
    {
     "cell_type": "heading",
     "level": 1,
     "metadata": {},
     "source": [
      "Data fusion setup"
     ]
    },
    {
     "cell_type": "code",
     "collapsed": false,
     "input": [
      "# SETUP of variables!\n",
      "k_perc = 0.025\n",
      "auc_th = 1\n",
      "\n",
      "# log file\n",
      "log_file = open('./logs/temp_CR_reconstruct_full_auc{}_kperc{}.txt'.format(auc_th, k_perc), 'a')\n",
      "\n",
      "\n",
      "print(('#############'\n",
      "      'New analysis'\n",
      "      '#############'\n",
      "      '\\nran on: {}' \n",
      "      '\\n######################################'\n",
      "      '\\nAUC_th = {}'\n",
      "      '\\nK_perc = {}'\n",
      "      '\\n######################################').format(time.strftime(\"%d.%m.%Y %H:%M:%S\"),auc_th, k_perc), file=log_file)"
     ],
     "language": "python",
     "metadata": {
      "scrolled": true
     },
     "outputs": [],
     "prompt_number": 4
    },
    {
     "cell_type": "code",
     "collapsed": false,
     "input": [
      "k_select = lambda x: max((ceil(x * k_perc), 2))\n",
      "\n",
      "# Define names\n",
      "secretion = fusion.ObjectType('SignalP', k_select(secretion_prot.shape[0]))\n",
      "prot = fusion.ObjectType('AAprot', k_select(prot_rna.shape[0]))\n",
      "genes = fusion.ObjectType('HSgenes', k_select(prot_rna.shape[1]))\n",
      "GO = fusion.ObjectType('GOterms', k_select(rna_GO.shape[1]))\n",
      "\n",
      "secretion_exp = fusion.ObjectType('SecritionMS', k_select(secretionexp_prot.shape[0]))\n",
      "rbp = fusion.ObjectType('RBPs', k_select(rbp_prot.shape[0]))\n",
      "\n",
      "# TODO: lower when possible\n",
      "expr = fusion.ObjectType('HSexpression', k_select(rna_expression.shape[1]))\n",
      "t4e = fusion.ObjectType('Type4eff', k_select(s4te_prot.shape[0]))\n",
      "OGfg = fusion.ObjectType('orthologs_group_functions', k_select(OG_prot.shape[0]))\n",
      "gproOG = fusion.ObjectType('orthologs_groups', k_select(gproOG_prot.shape[0]))\n",
      "aaexp = fusion.ObjectType('AAexpression', k_select(aaexp_prot.shape[0]))\n",
      "\n",
      "# Define relations\n",
      "relations = [fusion.Relation(prot_rna, prot, genes, name='catrapid'),\n",
      "             fusion.Relation(rna_expression, genes, expr, name='HS_foldchange'),\n",
      "             fusion.Relation(secretion_prot, secretion, prot, name='signalP'),\n",
      "             fusion.Relation(secretionexp_prot, secretion_exp, prot, name='SecretionMS'),\n",
      "             fusion.Relation(rbp_prot, rbp, prot, name='RBP_domains'),\n",
      "             fusion.Relation(s4te_prot, t4e, prot, name='T4E'),\n",
      "             fusion.Relation(aaexp_prot, aaexp, prot, name='AA_foldchange'),\n",
      "             fusion.Relation(OG_prot, OGfg, prot, name='OG_Function'),\n",
      "             fusion.Relation(rna_GO, genes, GO, name='GO_groups'),\n",
      "             fusion.Relation(gproOG_prot, gproOG, prot, name='OG_proteins'),\n",
      "             fusion.Relation(hsgene_gproOG, genes, gproOG, name='OG_rna')]\n",
      "\n",
      "\n",
      "all_object = [secretion, prot, genes, GO, expr, t4e, OGfg, gproOG, aaexp, secretion_exp, rbp]\n",
      "for objx in all_object:\n",
      "    print(objx, objx.rank)\n"
     ],
     "language": "python",
     "metadata": {},
     "outputs": [
      {
       "output_type": "stream",
       "stream": "stdout",
       "text": [
        "SignalP 2\n",
        "AAprot 51\n",
        "HSgenes 178\n",
        "GOterms 8\n",
        "HSexpression 2\n",
        "Type4eff 2\n",
        "orthologs_group_functions 2\n",
        "orthologs_groups 21\n",
        "AAexpression 2\n",
        "SecritionMS 2\n",
        "RBPs 2\n"
       ]
      }
     ],
     "prompt_number": 5
    },
    {
     "cell_type": "heading",
     "level": 1,
     "metadata": {},
     "source": [
      "Validation Functions"
     ]
    },
    {
     "cell_type": "code",
     "collapsed": false,
     "input": [
      "def dfmc(seed, relations):\n",
      "    return fusion.Dfmc(random_state=seed).fuse(fusion.FusionGraph(relations))\n",
      "\n",
      "\n",
      "# CATRAPID functions\n",
      "def paralel_cr_CV(relations, cv_matrix, elements):\n",
      "    xrel = deepcopy(relations)\n",
      "    xrel[0].data = cv_matrix\n",
      "    xfuser = dfmc(1, xrel)\n",
      "    return np.absolute(xfuser.complete(xfuser.fusion_graph['catrapid'])[elements, :].mean(axis=1) - relations[0].data[elements, :].mean(axis=1)).sum()\n",
      "\n",
      "\n",
      "def CV_cr_sum(relations, cv_fold=10, th=2.5, random_state=1, alternative=0):\n",
      "    \"\"\"\n",
      "    Performs cross valiation on catrapid matrix and calculated per protein deviation\n",
      "    \"\"\"\n",
      "    orig_matrix = relations[0].data\n",
      "    return Parallel(n_jobs=cv_fold)(delayed(paralel_cr_CV)(relations, cv_matrix, elements) for cv_matrix, elements in matrix_cv_setup(orig_matrix, alternative=alternative, by_row=True, n_fold=cv_fold))\n",
      "\n",
      "\n",
      "# SignalP functions\n",
      "def paralel_sp_CV(relations, cv_matrix, elements, sp_idx, true_vals):\n",
      "    xrel = deepcopy(relations)\n",
      "    xrel[sp_idx].data = cv_matrix\n",
      "    xfuser = dfmc(1, xrel)\n",
      "    pred_vals = xfuser.complete(xfuser.fusion_graph['signalP'])[0, elements].flatten()\n",
      "\n",
      "    true_vals = true_vals[elements]\n",
      "    fpr, tpr, thresholds = metrics.roc_curve(true_vals, pred_vals)\n",
      "    return metrics.auc(fpr, tpr)\n",
      "\n",
      "def CV_sp_auc(relations, cv_fold=10, th=2.5, random_state=1, alternative=0):\n",
      "    sp_idx = relations.index(fusion.Relation(secretion_prot, secretion, prot, name='signalP'))\n",
      "    orig_matrix = relations[sp_idx].data\n",
      "    true_vals = (orig_matrix[0, :] >= 0.51).flatten() * 1\n",
      "    return Parallel(n_jobs=cv_fold)(delayed(paralel_sp_CV)(relations, cv_matrix.T, elements, sp_idx, true_vals) for cv_matrix, elements in matrix_cv_setup(orig_matrix.T, alternative=alternative, by_row=True, n_fold=cv_fold))\n",
      "\n",
      "\n",
      "# Experimetnal secretion\n",
      "def paralel_expsec_CV(relations, cv_matrix, elements, sp_idx, true_vals):\n",
      "    xrel = deepcopy(relations)\n",
      "    xrel[sp_idx].data = cv_matrix\n",
      "    xfuser = dfmc(1, xrel)\n",
      "    pred_vals = xfuser.complete(xfuser.fusion_graph['SecretionMS'])[0, elements].flatten()\n",
      "\n",
      "    true_vals = true_vals[elements]\n",
      "    fpr, tpr, thresholds = metrics.roc_curve(true_vals, pred_vals)\n",
      "    return metrics.auc(fpr, tpr)\n",
      "\n",
      "\n",
      "def CV_expsec_auc(relations, cv_fold=10, th=2.5, random_state=1, alternative=0):\n",
      "    sp_idx = relations.index(fusion.Relation(secretionexp_prot, secretion_exp, prot, name='SecretionMS'))\n",
      "    orig_matrix = relations[sp_idx].data\n",
      "    true_vals = (orig_matrix[0, :] == 1).flatten() * 1\n",
      "    return Parallel(n_jobs=cv_fold)(delayed(paralel_expsec_CV)(relations, cv_matrix.T, elements, sp_idx, true_vals) for cv_matrix, elements in matrix_cv_setup(orig_matrix.T, alternative=alternative, by_row=True, n_fold=cv_fold))\n",
      "\n",
      "\n",
      "# RBP domains\n",
      "def paralel_rbp_CV(relations, cv_matrix, elements, sp_idx, true_vals1, true_vals2):\n",
      "    xrel = deepcopy(relations)\n",
      "    xrel[sp_idx].data = cv_matrix\n",
      "    xfuser = dfmc(1, xrel)\n",
      "    pred_vals = xfuser.complete(xfuser.fusion_graph['RBP_domains'])[0, elements].flatten()\n",
      "\n",
      "    true_vals1 = true_vals1[elements]\n",
      "    true_vals2 = true_vals2[elements]\n",
      "    fpr1, tpr1, thresholds = metrics.roc_curve(true_vals1, pred_vals)\n",
      "    fpr2, tpr2, thresholds = metrics.roc_curve(true_vals2, pred_vals)\n",
      "    return metrics.auc(fpr1, tpr1), metrics.auc(fpr2, tpr2)\n",
      "\n",
      "\n",
      "def CV_rbp_auc(relations, cv_fold=10, th=2.5, random_state=1, alternative=0):\n",
      "    sp_idx = relations.index(fusion.Relation(rbp_prot, rbp, prot, name='RBP_domains'))\n",
      "    orig_matrix = relations[sp_idx].data\n",
      "    true_vals1 = (orig_matrix[0, :] == 1).flatten() * 1\n",
      "    true_vals2 = (orig_matrix[0, :] >= 0.5).flatten() * 1\n",
      "    return Parallel(n_jobs=cv_fold)(delayed(paralel_rbp_CV)(relations, cv_matrix.T, elements, sp_idx, true_vals1, true_vals2) for cv_matrix, elements in matrix_cv_setup(orig_matrix.T, alternative=alternative, by_row=True, n_fold=cv_fold))\n"
     ],
     "language": "python",
     "metadata": {},
     "outputs": [],
     "prompt_number": 6
    },
    {
     "cell_type": "code",
     "collapsed": true,
     "input": [
      "def plot_results(plt_vals, ylab =''):\n",
      "    fig = plt.figure()\n",
      "    ax = fig.add_subplot(111)\n",
      "    ax.set_ylabel(ylab)\n",
      "    flierprops = dict(marker='o', markerfacecolor='blue', linestyle='none');\n",
      "    boxprops= dict( color='blue', linewidth=2)\n",
      "    capprops = dict(color='blue', linewidth=2)\n",
      "    medianprops = dict(color='blue', linewidth=2)\n",
      "    my_bp = plt.boxplot(plt_vals, flierprops=flierprops, boxprops=boxprops, capprops=capprops, patch_artist=True);\n",
      "\n",
      "    ax.set_xticklabels(['% K: {}'.format(k * 100) for k in k_percs]);\n",
      "\n",
      "    for box in my_bp['boxes'][:10]:\n",
      "         box.set( facecolor= 'green', alpha = 0.5 )"
     ],
     "language": "python",
     "metadata": {},
     "outputs": [],
     "prompt_number": 7
    },
    {
     "cell_type": "heading",
     "level": 1,
     "metadata": {},
     "source": [
      "Predictions and Validations"
     ]
    },
    {
     "cell_type": "markdown",
     "metadata": {},
     "source": [
      "### CatRapid\n",
      "\n",
      "We are looking per protein distance from True Value"
     ]
    },
    {
     "cell_type": "code",
     "collapsed": false,
     "input": [
      "all_distances = []\n",
      "k_percs = [0.01, 0.025, 0.05, 0.1,  0.125, 0.15, 0.2]\n",
      "for k_perc in k_percs:\n",
      "    k_select = lambda x: max((ceil(x * k_perc), 2))\n",
      "    \n",
      "    # relations setup\n",
      "    secretion = fusion.ObjectType('SignalP', k_select(secretion_prot.shape[0]))\n",
      "    prot = fusion.ObjectType('AAprot', k_select(prot_rna.shape[0]))\n",
      "    genes = fusion.ObjectType('HSgenes', k_select(prot_rna.shape[1]))\n",
      "    GO = fusion.ObjectType('GOterms', k_select(rna_GO.shape[1]))\n",
      "    secretion_exp = fusion.ObjectType('SecritionMS', k_select(secretionexp_prot.shape[0]))\n",
      "    rbp = fusion.ObjectType('RBPs', k_select(rbp_prot.shape[0]))\n",
      "    expr = fusion.ObjectType('HSexpression', k_select(rna_expression.shape[1]))\n",
      "    t4e = fusion.ObjectType('Type4eff', k_select(s4te_prot.shape[0]))\n",
      "    OGfg = fusion.ObjectType('orthologs_group_functions', k_select(OG_prot.shape[0]))\n",
      "    gproOG = fusion.ObjectType('orthologs_groups', k_select(gproOG_prot.shape[0]))\n",
      "    aaexp = fusion.ObjectType('AAexpression', k_select(aaexp_prot.shape[0]))\n",
      "    \n",
      "    # actual relations\n",
      "    relations = [fusion.Relation(prot_rna, prot, genes, name='catrapid'),\n",
      "             fusion.Relation(rna_expression, genes, expr, name='HS_foldchange'),\n",
      "             fusion.Relation(secretion_prot, secretion, prot, name='signalP'),\n",
      "             fusion.Relation(secretionexp_prot, secretion_exp, prot, name='SecretionMS'),\n",
      "             fusion.Relation(rbp_prot, rbp, prot, name='RBP_domains'),\n",
      "             fusion.Relation(s4te_prot, t4e, prot, name='T4E'),\n",
      "             fusion.Relation(aaexp_prot, aaexp, prot, name='AA_foldchange'),\n",
      "             fusion.Relation(OG_prot, OGfg, prot, name='OG_Function'),\n",
      "             fusion.Relation(rna_GO, genes, GO, name='GO_groups'),\n",
      "             fusion.Relation(gproOG_prot, gproOG, prot, name='OG_proteins'),\n",
      "             fusion.Relation(hsgene_gproOG, genes, gproOG, name='OG_rna')]\n",
      "\n",
      "    \n",
      "    x = CV_cr_sum(relations, cv_fold=10, th=auc_th, alternative='mask')\n",
      "    all_distances.append(x)\n",
      "\n",
      "plot_results(all_distances)\n",
      "print('All K_perc:', k_percs)\n",
      "print('All Catrapid_reconstructions', all_distances)"
     ],
     "language": "python",
     "metadata": {
      "scrolled": true
     },
     "outputs": [
      {
       "output_type": "stream",
       "stream": "stdout",
       "text": [
        "All K_perc: [0.01, 0.025, 0.05, 0.1, 0.125, 0.15, 0.2]\n",
        "All Catrapid_reconstructions [[48.376388356666283, 47.753185830435598, 46.567472060201524, 46.464240048244399, 42.940277209364218, 47.456121551244564, 49.304286205631648, 46.029366527179718, 48.43512734562988, 47.110218181236164], [47.832536924965815, 47.04946046990306, 46.998060423898949, 46.44022139128414, 42.602419496149125, 47.237896537744682, 48.76171183156864, 45.729733578659925, 48.283952303983909, 47.085706200996114], [47.818421073796117, 47.027756678520866, 47.030659072313171, 46.455352760821327, 42.602936358801429, 47.235563387034887, 48.732272538174627, 45.721096724244063, 48.276369894312808, 47.07884375356609], [47.787005083108063, 47.002636508080592, 47.053912945195677, 46.450825271849872, 42.587743498208283, 47.232611354794528, 48.730394827340838, 45.712713961290831, 48.265680669539634, 47.087655293739722], [47.781996246759228, 46.988815433068915, 47.061999982970796, 46.44825090605363, 42.587114373793412, 47.235578628517807, 48.726718565062825, 45.709170249298211, 48.265950750901027, 47.088083931389875], [47.781255896587766, 46.985834413492327, 47.062918664752985, 46.451856620603763, 42.58529910828328, 47.236451170602358, 48.719592523319214, 45.713336441680482, 48.264686293657661, 47.089641687974272], [47.779085024150106, 46.987761960970133, 47.055774019128449, 46.450083309382435, 42.58570418699567, 47.234861987013204, 48.725528341754696, 45.707335222745016, 48.265247372202104, 47.089614498513228]]\n"
       ]
      },
      {
       "output_type": "stream",
       "stream": "stderr",
       "text": [
        "/disk2/programs/anaconda/lib/python3.4/site-packages/matplotlib/patches.py:102: UserWarning: Setting the 'color' property will overridethe edgecolor or facecolor properties. \n",
        "  warnings.warn(\"Setting the 'color' property will override\"\n"
       ]
      },
      {
       "output_type": "display_data",
       "png": "[encoded data removed]",
       "text": [
        "<matplotlib.figure.Figure at 0x2b7f26a62ef0>"
       ]
      }
     ],
     "prompt_number": 8
    },
    {
     "cell_type": "heading",
     "level": 3,
     "metadata": {},
     "source": [
      "SignalP"
     ]
    },
    {
     "cell_type": "code",
     "collapsed": true,
     "input": [
      "all_distances = []\n",
      "k_percs = [0.01, 0.025, 0.05, 0.1,  0.125, 0.15, 0.2]\n",
      "for k_perc in k_percs:\n",
      "    k_select = lambda x: max((ceil(x * k_perc), 2))\n",
      "    \n",
      "    # relations setup\n",
      "    secretion = fusion.ObjectType('SignalP', k_select(secretion_prot.shape[0]))\n",
      "    prot = fusion.ObjectType('AAprot', k_select(prot_rna.shape[0]))\n",
      "    genes = fusion.ObjectType('HSgenes', k_select(prot_rna.shape[1]))\n",
      "    GO = fusion.ObjectType('GOterms', k_select(rna_GO.shape[1]))\n",
      "    secretion_exp = fusion.ObjectType('SecritionMS', k_select(secretionexp_prot.shape[0]))\n",
      "    rbp = fusion.ObjectType('RBPs', k_select(rbp_prot.shape[0]))\n",
      "    expr = fusion.ObjectType('HSexpression', k_select(rna_expression.shape[1]))\n",
      "    t4e = fusion.ObjectType('Type4eff', k_select(s4te_prot.shape[0]))\n",
      "    OGfg = fusion.ObjectType('orthologs_group_functions', k_select(OG_prot.shape[0]))\n",
      "    gproOG = fusion.ObjectType('orthologs_groups', k_select(gproOG_prot.shape[0]))\n",
      "    aaexp = fusion.ObjectType('AAexpression', k_select(aaexp_prot.shape[0]))\n",
      "    \n",
      "    # actual relations\n",
      "    relations = [fusion.Relation(prot_rna, prot, genes, name='catrapid'),\n",
      "             fusion.Relation(rna_expression, genes, expr, name='HS_foldchange'),\n",
      "             fusion.Relation(secretion_prot, secretion, prot, name='signalP'),\n",
      "             fusion.Relation(secretionexp_prot, secretion_exp, prot, name='SecretionMS'),\n",
      "             fusion.Relation(rbp_prot, rbp, prot, name='RBP_domains'),\n",
      "             fusion.Relation(s4te_prot, t4e, prot, name='T4E'),\n",
      "             fusion.Relation(aaexp_prot, aaexp, prot, name='AA_foldchange'),\n",
      "             fusion.Relation(OG_prot, OGfg, prot, name='OG_Function'),\n",
      "             fusion.Relation(rna_GO, genes, GO, name='GO_groups'),\n",
      "             fusion.Relation(gproOG_prot, gproOG, prot, name='OG_proteins'),\n",
      "             fusion.Relation(hsgene_gproOG, genes, gproOG, name='OG_rna')]\n",
      "\n",
      "    x = CV_sp_auc(relations, cv_fold=10, th=auc_th, alternative='mask')\n",
      "    all_distances.append(x)\n",
      "\n",
      "plot_results(all_distances)\n",
      "print('All K_perc:', k_percs)\n",
      "print('All SignalP reconstructions:', all_distances)"
     ],
     "language": "python",
     "metadata": {},
     "outputs": [
      {
       "output_type": "stream",
       "stream": "stdout",
       "text": [
        "All K_perc: [0.01, 0.025, 0.05, 0.1, 0.125, 0.15, 0.2]\n",
        "All SignalP reconstructions: [[0.71810542398777699, 0.6716036772216547, 0.7573260073260073, 0.65149456521739135, 0.72195435551269682, 0.76824658330910145, 0.73095467695274841, 0.70033670033670026, 0.84754224270353296, 0.63308913308913306], [0.67685255920550036, 0.7137385086823288, 0.73046398046398042, 0.70584239130434789, 0.68723882995821284, 0.82698458854318124, 0.76631308261009323, 0.72534872534872541, 0.84984639016897079, 0.66056166056166066], [0.67799847211611919, 0.69075587334014288, 0.73321123321123327, 0.74490489130434789, 0.70170363227258115, 0.78860133759813911, 0.78495660559305691, 0.74170274170274164, 0.85215053763440851, 0.70879120879120883], [0.78456837280366698, 0.68411644535240035, 0.7643467643467643, 0.68274456521739124, 0.71166827386692388, 0.70282058738005238, 0.82417229186756669, 0.71765271765271765, 0.89746543778801835, 0.62759462759462759], [0.6875477463712758, 0.67568947906026555, 0.70604395604395609, 0.65421195652173914, 0.73384763741562209, 0.72143064844431515, 0.73577627772420451, 0.6835016835016835, 0.85291858678955446, 0.67612942612942617], [0.65049656226126817, 0.75408580183861074, 0.73321123321123327, 0.70754076086956519, 0.76759884281581481, 0.69380633905205003, 0.7862423657987786, 0.7647907647907648, 0.88133640552995385, 0.77075702075702079], [0.6695951107715814, 0.62231869254341166, 0.72405372405372403, 0.63586956521739135, 0.7103825136612022, 0.67781331782494902, 0.76213436194149797, 0.64886964886964882, 0.77611367127496145, 0.63247863247863245]]\n"
       ]
      },
      {
       "output_type": "stream",
       "stream": "stderr",
       "text": [
        "/disk2/programs/anaconda/lib/python3.4/site-packages/matplotlib/patches.py:102: UserWarning: Setting the 'color' property will overridethe edgecolor or facecolor properties. \n",
        "  warnings.warn(\"Setting the 'color' property will override\"\n"
       ]
      },
      {
       "output_type": "display_data",
       "png": "[encoded data removed]",
       "text": [
        "<matplotlib.figure.Figure at 0x2b7f101c3048>"
       ]
      }
     ],
     "prompt_number": 9
    },
    {
     "cell_type": "heading",
     "level": 3,
     "metadata": {},
     "source": [
      "Experimental Secretion"
     ]
    },
    {
     "cell_type": "code",
     "collapsed": false,
     "input": [
      "all_distances = []\n",
      "k_percs = [0.01, 0.025, 0.05, 0.1,  0.125, 0.15, 0.2]\n",
      "for k_perc in k_percs:\n",
      "    k_select = lambda x: max((ceil(x * k_perc), 2))\n",
      "    \n",
      "\n",
      "    # relations setup\n",
      "    secretion = fusion.ObjectType('SignalP', k_select(secretion_prot.shape[0]))\n",
      "    prot = fusion.ObjectType('AAprot', k_select(prot_rna.shape[0]))\n",
      "    genes = fusion.ObjectType('HSgenes', k_select(prot_rna.shape[1]))\n",
      "    GO = fusion.ObjectType('GOterms', k_select(rna_GO.shape[1]))\n",
      "    secretion_exp = fusion.ObjectType('SecritionMS', k_select(secretionexp_prot.shape[0]))\n",
      "    rbp = fusion.ObjectType('RBPs', k_select(rbp_prot.shape[0]))\n",
      "    expr = fusion.ObjectType('HSexpression', k_select(rna_expression.shape[1]))\n",
      "    t4e = fusion.ObjectType('Type4eff', k_select(s4te_prot.shape[0]))\n",
      "    OGfg = fusion.ObjectType('orthologs_group_functions', k_select(OG_prot.shape[0]))\n",
      "    gproOG = fusion.ObjectType('orthologs_groups', k_select(gproOG_prot.shape[0]))\n",
      "    aaexp = fusion.ObjectType('AAexpression', k_select(aaexp_prot.shape[0]))\n",
      "    \n",
      "    # actual relations\n",
      "    relations = [fusion.Relation(prot_rna, prot, genes, name='catrapid'),\n",
      "             fusion.Relation(rna_expression, genes, expr, name='HS_foldchange'),\n",
      "             fusion.Relation(secretion_prot, secretion, prot, name='signalP'),\n",
      "             fusion.Relation(secretionexp_prot, secretion_exp, prot, name='SecretionMS'),\n",
      "             fusion.Relation(rbp_prot, rbp, prot, name='RBP_domains'),\n",
      "             fusion.Relation(s4te_prot, t4e, prot, name='T4E'),\n",
      "             fusion.Relation(aaexp_prot, aaexp, prot, name='AA_foldchange'),\n",
      "             fusion.Relation(OG_prot, OGfg, prot, name='OG_Function'),\n",
      "             fusion.Relation(rna_GO, genes, GO, name='GO_groups'),\n",
      "             fusion.Relation(gproOG_prot, gproOG, prot, name='OG_proteins'),\n",
      "             fusion.Relation(hsgene_gproOG, genes, gproOG, name='OG_rna')]\n",
      "\n",
      "    x = CV_expsec_auc(relations, cv_fold=10, th=auc_th, alternative='mask')\n",
      "    all_distances.append(x)\n",
      "\n",
      "plot_results(all_distances)\n",
      "print('All K_perc:', k_percs)\n",
      "print('All Exprerimental reconstructions:', all_distances)"
     ],
     "language": "python",
     "metadata": {},
     "outputs": [
      {
       "output_type": "stream",
       "stream": "stdout",
       "text": [
        "All K_perc: [0.01, 0.025, 0.05, 0.1, 0.125, 0.15, 0.2]\n",
        "All Exprerimental reconstructions: [[0.7021276595744681, 0.60427807486631013, 0.72021616310488823, 0.55910326086956519, 0.68002717391304346, 0.63973063973063971, 0.73225225225225221, 0.64844431520790935, 0.6789764466414655, 0.54216546953977118], [0.78068739770867435, 0.61332784862196632, 0.66028002947678699, 0.60767663043478259, 0.66474184782608692, 0.61904761904761907, 0.75207207207207205, 0.7103809246874091, 0.66763594068043042, 0.57382282521947325], [0.78641571194762683, 0.57877416700946105, 0.65831491034143941, 0.58661684782608692, 0.61922554347826086, 0.59307359307359309, 0.71423423423423427, 0.59028787438208796, 0.60860715324222159, 0.53631284916201116], [0.75409165302782333, 0.56108597285067874, 0.66224514861213457, 0.53057065217391308, 0.68002717391304346, 0.61856661856661854, 0.74270270270270267, 0.6193660947949986, 0.68304739749927312, 0.53711093375897845], [0.82487725040916537, 0.54422048539695589, 0.62785556374355189, 0.53702445652173914, 0.62839673913043481, 0.62530062530062525, 0.66090090090090092, 0.59494038964815354, 0.50741494620529226, 0.58526203777600427], [0.76432078559738126, 0.55121349238996298, 0.62392532547285673, 0.51460597826086962, 0.53702445652173925, 0.54112554112554112, 0.57477477477477468, 0.56818842686827564, 0.59959290491421924, 0.48922585794094164], [0.66653027823240585, 0.45660222130810363, 0.57799066568410717, 0.56487771739130432, 0.61786684782608692, 0.47619047619047616, 0.69153153153153157, 0.6019191625472522, 0.43413783076475726, 0.44346900771481779]]\n"
       ]
      },
      {
       "output_type": "stream",
       "stream": "stderr",
       "text": [
        "/disk2/programs/anaconda/lib/python3.4/site-packages/matplotlib/patches.py:102: UserWarning: Setting the 'color' property will overridethe edgecolor or facecolor properties. \n",
        "  warnings.warn(\"Setting the 'color' property will override\"\n"
       ]
      },
      {
       "output_type": "display_data",
       "png": "[encoded data removed]",
       "text": [
        "<matplotlib.figure.Figure at 0x2b7f26a2dfd0>"
       ]
      }
     ],
     "prompt_number": 10
    },
    {
     "cell_type": "markdown",
     "metadata": {},
     "source": [
      "### RBP domains\n",
      "\n",
      "We are predicting AUC"
     ]
    },
    {
     "cell_type": "code",
     "collapsed": false,
     "input": [
      "rbp_pred = []\n",
      "dbp_pred = []\n",
      "k_percs = [0.01, 0.025, 0.05, 0.1,  0.125, 0.15, 0.2]\n",
      "for k_perc in k_percs:\n",
      "    k_select = lambda x: max((ceil(x * k_perc), 2))\n",
      "    \n",
      "    # relations setup\n",
      "    secretion = fusion.ObjectType('SignalP', k_select(secretion_prot.shape[0]))\n",
      "    prot = fusion.ObjectType('AAprot', k_select(prot_rna.shape[0]))\n",
      "    genes = fusion.ObjectType('HSgenes', k_select(prot_rna.shape[1]))\n",
      "    GO = fusion.ObjectType('GOterms', k_select(rna_GO.shape[1]))\n",
      "    secretion_exp = fusion.ObjectType('SecritionMS', k_select(secretionexp_prot.shape[0]))\n",
      "    rbp = fusion.ObjectType('RBPs', k_select(rbp_prot.shape[0]))\n",
      "    expr = fusion.ObjectType('HSexpression', k_select(rna_expression.shape[1]))\n",
      "    t4e = fusion.ObjectType('Type4eff', k_select(s4te_prot.shape[0]))\n",
      "    OGfg = fusion.ObjectType('orthologs_group_functions', k_select(OG_prot.shape[0]))\n",
      "    gproOG = fusion.ObjectType('orthologs_groups', k_select(gproOG_prot.shape[0]))\n",
      "    aaexp = fusion.ObjectType('AAexpression', k_select(aaexp_prot.shape[0]))\n",
      "    \n",
      "    # actual relations\n",
      "    relations = [fusion.Relation(prot_rna, prot, genes, name='catrapid'),\n",
      "             fusion.Relation(rna_expression, genes, expr, name='HS_foldchange'),\n",
      "             fusion.Relation(secretion_prot, secretion, prot, name='signalP'),\n",
      "             fusion.Relation(secretionexp_prot, secretion_exp, prot, name='SecretionMS'),\n",
      "             fusion.Relation(rbp_prot, rbp, prot, name='RBP_domains'),\n",
      "             fusion.Relation(s4te_prot, t4e, prot, name='T4E'),\n",
      "             fusion.Relation(aaexp_prot, aaexp, prot, name='AA_foldchange'),\n",
      "             fusion.Relation(OG_prot, OGfg, prot, name='OG_Function'),\n",
      "             fusion.Relation(rna_GO, genes, GO, name='GO_groups'),\n",
      "             fusion.Relation(gproOG_prot, gproOG, prot, name='OG_proteins'),\n",
      "             fusion.Relation(hsgene_gproOG, genes, gproOG, name='OG_rna')]\n",
      "    \n",
      "    x = CV_rbp_auc(relations, cv_fold=10, th=auc_th, alternative='mask')\n",
      "    rbp_pred.append(x[0])\n",
      "    dbp_pred.append(x[1])\n",
      "\n",
      "plot_results(rbp_pred)\n",
      "plot_results(dbp_pred)\n",
      "print('All K_perc:', k_percs)\n",
      "print('All RBP reconstructions:', rbp_pred)\n",
      "print()\n",
      "print('All DBP reconstructions:', dbp_pred)"
     ],
     "language": "python",
     "metadata": {
      "scrolled": false
     },
     "outputs": [
      {
       "output_type": "stream",
       "stream": "stdout",
       "text": [
        "All K_perc: [0.01, 0.025, 0.05, 0.1, 0.125, 0.15, 0.2]\n",
        "All RBP reconstructions: [(0.76554404145077726, 0.7790017211703959), (0.72668393782383423, 0.79862306368330471), (0.76036269430051817, 0.79879518072289157), (0.76295336787564771, 0.76299483648881239), (0.72992227979274604, 0.76196213425129078), (0.70531088082901561, 0.73545611015490531), (0.67098445595854916, 0.68967297762478486)]\n",
        "\n",
        "All DBP reconstructions: [(0.73947368421052628, 0.70808406197269513), (0.70999999999999996, 0.71145881270133449), (0.72894736842105257, 0.70701027764994628), (0.6484210526315789, 0.67280257708237468), (0.64631578947368418, 0.65224727718975295), (0.69894736842105254, 0.64335020708697654), (0.56052631578947365, 0.65393465255407279)]\n"
       ]
      },
      {
       "output_type": "stream",
       "stream": "stderr",
       "text": [
        "/disk2/programs/anaconda/lib/python3.4/site-packages/matplotlib/patches.py:102: UserWarning: Setting the 'color' property will overridethe edgecolor or facecolor properties. \n",
        "  warnings.warn(\"Setting the 'color' property will override\"\n"
       ]
      },
      {
       "output_type": "display_data",
       "png": "[encoded data removed]",
       "text": [
        "<matplotlib.figure.Figure at 0x2b7f26a2d710>"
       ]
      },
      {
       "output_type": "display_data",
       "png": "[encoded data removed]",
       "text": [
        "<matplotlib.figure.Figure at 0x2b7f051fe198>"
       ]
      }
     ],
     "prompt_number": 11
    }
   ],
   "metadata": {}
  }
 ]
}